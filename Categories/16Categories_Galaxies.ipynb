{
 "cells": [
  {
   "cell_type": "code",
   "execution_count": 1,
   "id": "52d160d0",
   "metadata": {
    "ExecuteTime": {
     "end_time": "2023-01-10T15:41:19.477653Z",
     "start_time": "2023-01-10T15:41:18.496530Z"
    }
   },
   "outputs": [],
   "source": [
    "# Importing all the necessary libraries\n",
    "import pandas as pd \n",
    "import numpy as np \n",
    "import matplotlib.pyplot as plt \n",
    "import seaborn as sns \n",
    "%matplotlib inline"
   ]
  },
  {
   "cell_type": "code",
   "execution_count": 2,
   "id": "053dc440",
   "metadata": {
    "ExecuteTime": {
     "end_time": "2023-01-10T15:41:20.923666Z",
     "start_time": "2023-01-10T15:41:20.799205Z"
    }
   },
   "outputs": [
    {
     "data": {
      "text/html": [
       "<div>\n",
       "<style scoped>\n",
       "    .dataframe tbody tr th:only-of-type {\n",
       "        vertical-align: middle;\n",
       "    }\n",
       "\n",
       "    .dataframe tbody tr th {\n",
       "        vertical-align: top;\n",
       "    }\n",
       "\n",
       "    .dataframe thead th {\n",
       "        text-align: right;\n",
       "    }\n",
       "</style>\n",
       "<table border=\"1\" class=\"dataframe\">\n",
       "  <thead>\n",
       "    <tr style=\"text-align: right;\">\n",
       "      <th></th>\n",
       "      <th>objid</th>\n",
       "      <th>sample</th>\n",
       "      <th>asset_id</th>\n",
       "      <th>gz2_class</th>\n",
       "      <th>category</th>\n",
       "    </tr>\n",
       "  </thead>\n",
       "  <tbody>\n",
       "    <tr>\n",
       "      <th>0</th>\n",
       "      <td>5.880000e+17</td>\n",
       "      <td>original</td>\n",
       "      <td>3</td>\n",
       "      <td>Sc?l</td>\n",
       "      <td>Spiral</td>\n",
       "    </tr>\n",
       "    <tr>\n",
       "      <th>1</th>\n",
       "      <td>5.880000e+17</td>\n",
       "      <td>original</td>\n",
       "      <td>4</td>\n",
       "      <td>Sc?l</td>\n",
       "      <td>Spiral</td>\n",
       "    </tr>\n",
       "    <tr>\n",
       "      <th>2</th>\n",
       "      <td>5.880000e+17</td>\n",
       "      <td>original</td>\n",
       "      <td>5</td>\n",
       "      <td>Er</td>\n",
       "      <td>Elliptical</td>\n",
       "    </tr>\n",
       "    <tr>\n",
       "      <th>3</th>\n",
       "      <td>5.880000e+17</td>\n",
       "      <td>original</td>\n",
       "      <td>6</td>\n",
       "      <td>Sc1t</td>\n",
       "      <td>Spiral</td>\n",
       "    </tr>\n",
       "    <tr>\n",
       "      <th>4</th>\n",
       "      <td>5.880000e+17</td>\n",
       "      <td>original</td>\n",
       "      <td>7</td>\n",
       "      <td>Sc1t</td>\n",
       "      <td>Spiral</td>\n",
       "    </tr>\n",
       "    <tr>\n",
       "      <th>...</th>\n",
       "      <td>...</td>\n",
       "      <td>...</td>\n",
       "      <td>...</td>\n",
       "      <td>...</td>\n",
       "      <td>...</td>\n",
       "    </tr>\n",
       "    <tr>\n",
       "      <th>267745</th>\n",
       "      <td>5.880000e+17</td>\n",
       "      <td>stripe82</td>\n",
       "      <td>295294</td>\n",
       "      <td>SBc4m</td>\n",
       "      <td>Irregular</td>\n",
       "    </tr>\n",
       "    <tr>\n",
       "      <th>267746</th>\n",
       "      <td>5.880000e+17</td>\n",
       "      <td>stripe82</td>\n",
       "      <td>295295</td>\n",
       "      <td>Er</td>\n",
       "      <td>Elliptical</td>\n",
       "    </tr>\n",
       "    <tr>\n",
       "      <th>267747</th>\n",
       "      <td>5.880000e+17</td>\n",
       "      <td>stripe82</td>\n",
       "      <td>295296</td>\n",
       "      <td>Er</td>\n",
       "      <td>Elliptical</td>\n",
       "    </tr>\n",
       "    <tr>\n",
       "      <th>267748</th>\n",
       "      <td>5.880000e+17</td>\n",
       "      <td>stripe82</td>\n",
       "      <td>295304</td>\n",
       "      <td>Sc?l</td>\n",
       "      <td>Spiral</td>\n",
       "    </tr>\n",
       "    <tr>\n",
       "      <th>267749</th>\n",
       "      <td>5.880000e+17</td>\n",
       "      <td>stripe82</td>\n",
       "      <td>295305</td>\n",
       "      <td>Sc?l</td>\n",
       "      <td>Spiral</td>\n",
       "    </tr>\n",
       "  </tbody>\n",
       "</table>\n",
       "<p>267750 rows × 5 columns</p>\n",
       "</div>"
      ],
      "text/plain": [
       "               objid    sample  asset_id gz2_class    category\n",
       "0       5.880000e+17  original         3      Sc?l      Spiral\n",
       "1       5.880000e+17  original         4      Sc?l      Spiral\n",
       "2       5.880000e+17  original         5        Er  Elliptical\n",
       "3       5.880000e+17  original         6      Sc1t      Spiral\n",
       "4       5.880000e+17  original         7      Sc1t      Spiral\n",
       "...              ...       ...       ...       ...         ...\n",
       "267745  5.880000e+17  stripe82    295294     SBc4m   Irregular\n",
       "267746  5.880000e+17  stripe82    295295        Er  Elliptical\n",
       "267747  5.880000e+17  stripe82    295296        Er  Elliptical\n",
       "267748  5.880000e+17  stripe82    295304      Sc?l      Spiral\n",
       "267749  5.880000e+17  stripe82    295305      Sc?l      Spiral\n",
       "\n",
       "[267750 rows x 5 columns]"
      ]
     },
     "execution_count": 2,
     "metadata": {},
     "output_type": "execute_result"
    }
   ],
   "source": [
    "# Reading in the CSV as a pandas dataframe\n",
    "df = pd.read_csv('Galaxy_Classes.csv')\n",
    "df"
   ]
  },
  {
   "cell_type": "code",
   "execution_count": 3,
   "id": "8c8feee9",
   "metadata": {
    "ExecuteTime": {
     "end_time": "2023-01-10T15:41:22.880080Z",
     "start_time": "2023-01-10T15:41:22.864785Z"
    }
   },
   "outputs": [
    {
     "data": {
      "text/html": [
       "<div>\n",
       "<style scoped>\n",
       "    .dataframe tbody tr th:only-of-type {\n",
       "        vertical-align: middle;\n",
       "    }\n",
       "\n",
       "    .dataframe tbody tr th {\n",
       "        vertical-align: top;\n",
       "    }\n",
       "\n",
       "    .dataframe thead th {\n",
       "        text-align: right;\n",
       "    }\n",
       "</style>\n",
       "<table border=\"1\" class=\"dataframe\">\n",
       "  <thead>\n",
       "    <tr style=\"text-align: right;\">\n",
       "      <th></th>\n",
       "      <th>objid</th>\n",
       "      <th>sample</th>\n",
       "      <th>asset_id</th>\n",
       "      <th>gz2_class</th>\n",
       "      <th>category</th>\n",
       "      <th>Target</th>\n",
       "    </tr>\n",
       "  </thead>\n",
       "  <tbody>\n",
       "    <tr>\n",
       "      <th>0</th>\n",
       "      <td>5.880000e+17</td>\n",
       "      <td>original</td>\n",
       "      <td>3</td>\n",
       "      <td>Sc?l</td>\n",
       "      <td>Spiral</td>\n",
       "      <td>Sc?l</td>\n",
       "    </tr>\n",
       "    <tr>\n",
       "      <th>1</th>\n",
       "      <td>5.880000e+17</td>\n",
       "      <td>original</td>\n",
       "      <td>4</td>\n",
       "      <td>Sc?l</td>\n",
       "      <td>Spiral</td>\n",
       "      <td>Sc?l</td>\n",
       "    </tr>\n",
       "    <tr>\n",
       "      <th>2</th>\n",
       "      <td>5.880000e+17</td>\n",
       "      <td>original</td>\n",
       "      <td>5</td>\n",
       "      <td>Er</td>\n",
       "      <td>Elliptical</td>\n",
       "      <td>Er</td>\n",
       "    </tr>\n",
       "    <tr>\n",
       "      <th>3</th>\n",
       "      <td>5.880000e+17</td>\n",
       "      <td>original</td>\n",
       "      <td>6</td>\n",
       "      <td>Sc1t</td>\n",
       "      <td>Spiral</td>\n",
       "      <td>Sc1t</td>\n",
       "    </tr>\n",
       "    <tr>\n",
       "      <th>4</th>\n",
       "      <td>5.880000e+17</td>\n",
       "      <td>original</td>\n",
       "      <td>7</td>\n",
       "      <td>Sc1t</td>\n",
       "      <td>Spiral</td>\n",
       "      <td>Sc1t</td>\n",
       "    </tr>\n",
       "    <tr>\n",
       "      <th>...</th>\n",
       "      <td>...</td>\n",
       "      <td>...</td>\n",
       "      <td>...</td>\n",
       "      <td>...</td>\n",
       "      <td>...</td>\n",
       "      <td>...</td>\n",
       "    </tr>\n",
       "    <tr>\n",
       "      <th>267745</th>\n",
       "      <td>5.880000e+17</td>\n",
       "      <td>stripe82</td>\n",
       "      <td>295294</td>\n",
       "      <td>SBc4m</td>\n",
       "      <td>Irregular</td>\n",
       "      <td>SBc4m</td>\n",
       "    </tr>\n",
       "    <tr>\n",
       "      <th>267746</th>\n",
       "      <td>5.880000e+17</td>\n",
       "      <td>stripe82</td>\n",
       "      <td>295295</td>\n",
       "      <td>Er</td>\n",
       "      <td>Elliptical</td>\n",
       "      <td>Er</td>\n",
       "    </tr>\n",
       "    <tr>\n",
       "      <th>267747</th>\n",
       "      <td>5.880000e+17</td>\n",
       "      <td>stripe82</td>\n",
       "      <td>295296</td>\n",
       "      <td>Er</td>\n",
       "      <td>Elliptical</td>\n",
       "      <td>Er</td>\n",
       "    </tr>\n",
       "    <tr>\n",
       "      <th>267748</th>\n",
       "      <td>5.880000e+17</td>\n",
       "      <td>stripe82</td>\n",
       "      <td>295304</td>\n",
       "      <td>Sc?l</td>\n",
       "      <td>Spiral</td>\n",
       "      <td>Sc?l</td>\n",
       "    </tr>\n",
       "    <tr>\n",
       "      <th>267749</th>\n",
       "      <td>5.880000e+17</td>\n",
       "      <td>stripe82</td>\n",
       "      <td>295305</td>\n",
       "      <td>Sc?l</td>\n",
       "      <td>Spiral</td>\n",
       "      <td>Sc?l</td>\n",
       "    </tr>\n",
       "  </tbody>\n",
       "</table>\n",
       "<p>267750 rows × 6 columns</p>\n",
       "</div>"
      ],
      "text/plain": [
       "               objid    sample  asset_id gz2_class    category Target\n",
       "0       5.880000e+17  original         3      Sc?l      Spiral   Sc?l\n",
       "1       5.880000e+17  original         4      Sc?l      Spiral   Sc?l\n",
       "2       5.880000e+17  original         5        Er  Elliptical     Er\n",
       "3       5.880000e+17  original         6      Sc1t      Spiral   Sc1t\n",
       "4       5.880000e+17  original         7      Sc1t      Spiral   Sc1t\n",
       "...              ...       ...       ...       ...         ...    ...\n",
       "267745  5.880000e+17  stripe82    295294     SBc4m   Irregular  SBc4m\n",
       "267746  5.880000e+17  stripe82    295295        Er  Elliptical     Er\n",
       "267747  5.880000e+17  stripe82    295296        Er  Elliptical     Er\n",
       "267748  5.880000e+17  stripe82    295304      Sc?l      Spiral   Sc?l\n",
       "267749  5.880000e+17  stripe82    295305      Sc?l      Spiral   Sc?l\n",
       "\n",
       "[267750 rows x 6 columns]"
      ]
     },
     "execution_count": 3,
     "metadata": {},
     "output_type": "execute_result"
    }
   ],
   "source": [
    "#Creating a new target column with the final classification\n",
    "df['Target'] = df['gz2_class']\n",
    "df"
   ]
  },
  {
   "cell_type": "code",
   "execution_count": 4,
   "id": "3a9d2d0d",
   "metadata": {
    "ExecuteTime": {
     "end_time": "2023-01-10T15:41:24.886435Z",
     "start_time": "2023-01-10T15:41:24.877451Z"
    }
   },
   "outputs": [
    {
     "data": {
      "text/plain": [
       "objid        float64\n",
       "sample        object\n",
       "asset_id       int64\n",
       "gz2_class     object\n",
       "category      object\n",
       "Target        object\n",
       "dtype: object"
      ]
     },
     "execution_count": 4,
     "metadata": {},
     "output_type": "execute_result"
    }
   ],
   "source": [
    "df.dtypes #Checking the data types"
   ]
  },
  {
   "cell_type": "code",
   "execution_count": 5,
   "id": "9ef2672b",
   "metadata": {
    "ExecuteTime": {
     "end_time": "2023-01-10T15:41:25.609025Z",
     "start_time": "2023-01-10T15:41:25.590911Z"
    }
   },
   "outputs": [],
   "source": [
    "df['Target'] = df['Target'].astype(str) #Turning the Target column into string object to avoid errors"
   ]
  },
  {
   "cell_type": "code",
   "execution_count": 6,
   "id": "c794ff3d",
   "metadata": {
    "ExecuteTime": {
     "end_time": "2023-01-10T15:41:27.437935Z",
     "start_time": "2023-01-10T15:41:27.423858Z"
    }
   },
   "outputs": [
    {
     "data": {
      "text/plain": [
       "objid        float64\n",
       "sample        object\n",
       "asset_id       int64\n",
       "gz2_class     object\n",
       "category      object\n",
       "Target        object\n",
       "dtype: object"
      ]
     },
     "execution_count": 6,
     "metadata": {},
     "output_type": "execute_result"
    }
   ],
   "source": [
    "df.dtypes"
   ]
  },
  {
   "cell_type": "markdown",
   "id": "df83ad43",
   "metadata": {},
   "source": [
    "Creating 16 different categories based on the different classes. Making them more general, so that the model can find the more obvious features from the images as currently it is too detailed. Creating more detailed categories compared to \"category\" but disregarding tightness of the arms, prominence of the bulge, the shape of the bulge and any abnormalities discoeverd by people (abonrmalities are labelled as \"A\")."
   ]
  },
  {
   "cell_type": "code",
   "execution_count": 7,
   "id": "c8accf1d",
   "metadata": {
    "ExecuteTime": {
     "end_time": "2023-01-10T15:42:02.702936Z",
     "start_time": "2023-01-10T15:41:31.866862Z"
    }
   },
   "outputs": [
    {
     "data": {
      "text/plain": [
       "0           S\n",
       "1           S\n",
       "2          Er\n",
       "3          S1\n",
       "4          S1\n",
       "         ... \n",
       "267745    SB4\n",
       "267746     Er\n",
       "267747     Er\n",
       "267748      S\n",
       "267749      S\n",
       "Name: Target, Length: 267750, dtype: object"
      ]
     },
     "execution_count": 7,
     "metadata": {},
     "output_type": "execute_result"
    }
   ],
   "source": [
    "#Looping through all the rows in the Target column and relabelling them to create a total of 16 usable classes.\n",
    "\n",
    "for i in range(len(df['Target'])):\n",
    "    if 'Er' in df.loc[i,'Target']:\n",
    "        df.loc[i, 'Target'] = 'Er'\n",
    "    elif 'Ei' in df.loc[i,'Target']:\n",
    "        df.loc[i, 'Target'] = 'Ei'\n",
    "    elif 'Ec' in df.loc[i,'Target']:\n",
    "        df.loc[i, 'Target'] = 'Ec' #Doing it this way in case there are more labels after the Er/i/c\n",
    "    elif 'Ser' in df.loc[i,'Target']:\n",
    "        df.loc[i, 'Target'] = 'Se' #edge on spiral\n",
    "    elif 'Seb' in df.loc[i,'Target']:\n",
    "        df.loc[i, 'Target'] = 'Se' #edge on spiral\n",
    "    elif 'Sen' in df.loc[i,'Target']:\n",
    "        df.loc[i, 'Target'] = 'Se' #edge on spiral\n",
    "    elif 'SB' in df.loc[i,'Target']: \n",
    "        if '1' in df.loc[i,'Target']: \n",
    "            df.loc[i,'Target'] = 'SB1' #barred spiral with 1 arm \n",
    "        elif '2' in  df.loc[i,'Target']: \n",
    "            df.loc[i,'Target'] = 'SB2' #barred spiral with 2 arms\n",
    "        elif '3' in  df.loc[i,'Target']: \n",
    "            df.loc[i,'Target'] = 'SB3' #barred spiral with 3 arms\n",
    "        elif '4' in  df.loc[i,'Target']: \n",
    "            df.loc[i,'Target'] = 'SB4' #barred spiral with 4 arms\n",
    "        elif '+' in  df.loc[i,'Target']: \n",
    "            df.loc[i,'Target'] = 'SB5' #barred spiral with more than 4 arms\n",
    "        else: \n",
    "            df.loc[i,'Target'] = 'SB' #barred spiral with no arms\n",
    "    elif 'S' in df.loc[i,'Target']:\n",
    "        if '1' in df.loc[i,'Target']: \n",
    "            df.loc[i,'Target'] = 'S1' #no bar spiral with 1 arm \n",
    "        elif '2' in  df.loc[i,'Target']: \n",
    "            df.loc[i,'Target'] = 'S2' #no bar spiral with 2 arms\n",
    "        elif '3' in  df.loc[i,'Target']: \n",
    "            df.loc[i,'Target'] = 'S3' #no bar spiral with 3 arms\n",
    "        elif '4' in  df.loc[i,'Target']: \n",
    "            df.loc[i,'Target'] = 'S4' #no bar spiral with 4 arms\n",
    "        elif '+' in  df.loc[i,'Target']: \n",
    "            df.loc[i,'Target'] = 'S5' #no bar spiral with more than 4 arms\n",
    "        else: \n",
    "            df.loc[i,'Target'] = 'S' #no bar spiral with no arms\n",
    "    else: \n",
    "        df.loc[i,'Target'] = 'A' #means arifact which will be ignored\n",
    "        \n",
    "df['Target'] #Checking that all the values had been labelled"
   ]
  },
  {
   "cell_type": "code",
   "execution_count": 8,
   "id": "fa7bb4dc",
   "metadata": {
    "ExecuteTime": {
     "end_time": "2023-01-10T15:42:07.885068Z",
     "start_time": "2023-01-10T15:42:07.872346Z"
    }
   },
   "outputs": [
    {
     "data": {
      "text/html": [
       "<div>\n",
       "<style scoped>\n",
       "    .dataframe tbody tr th:only-of-type {\n",
       "        vertical-align: middle;\n",
       "    }\n",
       "\n",
       "    .dataframe tbody tr th {\n",
       "        vertical-align: top;\n",
       "    }\n",
       "\n",
       "    .dataframe thead th {\n",
       "        text-align: right;\n",
       "    }\n",
       "</style>\n",
       "<table border=\"1\" class=\"dataframe\">\n",
       "  <thead>\n",
       "    <tr style=\"text-align: right;\">\n",
       "      <th></th>\n",
       "      <th>objid</th>\n",
       "      <th>sample</th>\n",
       "      <th>asset_id</th>\n",
       "      <th>gz2_class</th>\n",
       "      <th>category</th>\n",
       "      <th>Target</th>\n",
       "    </tr>\n",
       "  </thead>\n",
       "  <tbody>\n",
       "    <tr>\n",
       "      <th>0</th>\n",
       "      <td>5.880000e+17</td>\n",
       "      <td>original</td>\n",
       "      <td>3</td>\n",
       "      <td>Sc?l</td>\n",
       "      <td>Spiral</td>\n",
       "      <td>S</td>\n",
       "    </tr>\n",
       "    <tr>\n",
       "      <th>1</th>\n",
       "      <td>5.880000e+17</td>\n",
       "      <td>original</td>\n",
       "      <td>4</td>\n",
       "      <td>Sc?l</td>\n",
       "      <td>Spiral</td>\n",
       "      <td>S</td>\n",
       "    </tr>\n",
       "    <tr>\n",
       "      <th>2</th>\n",
       "      <td>5.880000e+17</td>\n",
       "      <td>original</td>\n",
       "      <td>5</td>\n",
       "      <td>Er</td>\n",
       "      <td>Elliptical</td>\n",
       "      <td>Er</td>\n",
       "    </tr>\n",
       "    <tr>\n",
       "      <th>3</th>\n",
       "      <td>5.880000e+17</td>\n",
       "      <td>original</td>\n",
       "      <td>6</td>\n",
       "      <td>Sc1t</td>\n",
       "      <td>Spiral</td>\n",
       "      <td>S1</td>\n",
       "    </tr>\n",
       "    <tr>\n",
       "      <th>4</th>\n",
       "      <td>5.880000e+17</td>\n",
       "      <td>original</td>\n",
       "      <td>7</td>\n",
       "      <td>Sc1t</td>\n",
       "      <td>Spiral</td>\n",
       "      <td>S1</td>\n",
       "    </tr>\n",
       "    <tr>\n",
       "      <th>...</th>\n",
       "      <td>...</td>\n",
       "      <td>...</td>\n",
       "      <td>...</td>\n",
       "      <td>...</td>\n",
       "      <td>...</td>\n",
       "      <td>...</td>\n",
       "    </tr>\n",
       "    <tr>\n",
       "      <th>267745</th>\n",
       "      <td>5.880000e+17</td>\n",
       "      <td>stripe82</td>\n",
       "      <td>295294</td>\n",
       "      <td>SBc4m</td>\n",
       "      <td>Irregular</td>\n",
       "      <td>SB4</td>\n",
       "    </tr>\n",
       "    <tr>\n",
       "      <th>267746</th>\n",
       "      <td>5.880000e+17</td>\n",
       "      <td>stripe82</td>\n",
       "      <td>295295</td>\n",
       "      <td>Er</td>\n",
       "      <td>Elliptical</td>\n",
       "      <td>Er</td>\n",
       "    </tr>\n",
       "    <tr>\n",
       "      <th>267747</th>\n",
       "      <td>5.880000e+17</td>\n",
       "      <td>stripe82</td>\n",
       "      <td>295296</td>\n",
       "      <td>Er</td>\n",
       "      <td>Elliptical</td>\n",
       "      <td>Er</td>\n",
       "    </tr>\n",
       "    <tr>\n",
       "      <th>267748</th>\n",
       "      <td>5.880000e+17</td>\n",
       "      <td>stripe82</td>\n",
       "      <td>295304</td>\n",
       "      <td>Sc?l</td>\n",
       "      <td>Spiral</td>\n",
       "      <td>S</td>\n",
       "    </tr>\n",
       "    <tr>\n",
       "      <th>267749</th>\n",
       "      <td>5.880000e+17</td>\n",
       "      <td>stripe82</td>\n",
       "      <td>295305</td>\n",
       "      <td>Sc?l</td>\n",
       "      <td>Spiral</td>\n",
       "      <td>S</td>\n",
       "    </tr>\n",
       "  </tbody>\n",
       "</table>\n",
       "<p>267750 rows × 6 columns</p>\n",
       "</div>"
      ],
      "text/plain": [
       "               objid    sample  asset_id gz2_class    category Target\n",
       "0       5.880000e+17  original         3      Sc?l      Spiral      S\n",
       "1       5.880000e+17  original         4      Sc?l      Spiral      S\n",
       "2       5.880000e+17  original         5        Er  Elliptical     Er\n",
       "3       5.880000e+17  original         6      Sc1t      Spiral     S1\n",
       "4       5.880000e+17  original         7      Sc1t      Spiral     S1\n",
       "...              ...       ...       ...       ...         ...    ...\n",
       "267745  5.880000e+17  stripe82    295294     SBc4m   Irregular    SB4\n",
       "267746  5.880000e+17  stripe82    295295        Er  Elliptical     Er\n",
       "267747  5.880000e+17  stripe82    295296        Er  Elliptical     Er\n",
       "267748  5.880000e+17  stripe82    295304      Sc?l      Spiral      S\n",
       "267749  5.880000e+17  stripe82    295305      Sc?l      Spiral      S\n",
       "\n",
       "[267750 rows x 6 columns]"
      ]
     },
     "execution_count": 8,
     "metadata": {},
     "output_type": "execute_result"
    }
   ],
   "source": [
    "df"
   ]
  },
  {
   "cell_type": "code",
   "execution_count": 9,
   "id": "abd929c4",
   "metadata": {
    "ExecuteTime": {
     "end_time": "2023-01-10T15:42:11.641970Z",
     "start_time": "2023-01-10T15:42:11.616609Z"
    }
   },
   "outputs": [
    {
     "data": {
      "text/plain": [
       "S      54148\n",
       "Ei     53212\n",
       "Er     49196\n",
       "SB2    26401\n",
       "Se     19935\n",
       "SB     18069\n",
       "S2     15729\n",
       "Ec      9479\n",
       "S3      6337\n",
       "SB3     3715\n",
       "S1      3295\n",
       "S5      2600\n",
       "S4      1778\n",
       "SB5     1068\n",
       "SB1     1053\n",
       "SB4     1052\n",
       "A        683\n",
       "Name: Target, dtype: int64"
      ]
     },
     "execution_count": 9,
     "metadata": {},
     "output_type": "execute_result"
    }
   ],
   "source": [
    "df['Target'].value_counts()"
   ]
  },
  {
   "cell_type": "code",
   "execution_count": 10,
   "id": "ccd433d6",
   "metadata": {
    "ExecuteTime": {
     "end_time": "2023-01-10T15:48:18.220771Z",
     "start_time": "2023-01-10T15:48:17.471358Z"
    }
   },
   "outputs": [],
   "source": [
    "#Saving a new file with all the new categories\n",
    "\n",
    "df.to_csv(\"Galaxy_16classes.csv\", index=False)"
   ]
  },
  {
   "cell_type": "code",
   "execution_count": null,
   "id": "996a7139",
   "metadata": {},
   "outputs": [],
   "source": []
  }
 ],
 "metadata": {
  "kernelspec": {
   "display_name": "Python 3 (ipykernel)",
   "language": "python",
   "name": "python3"
  },
  "language_info": {
   "codemirror_mode": {
    "name": "ipython",
    "version": 3
   },
   "file_extension": ".py",
   "mimetype": "text/x-python",
   "name": "python",
   "nbconvert_exporter": "python",
   "pygments_lexer": "ipython3",
   "version": "3.9.7"
  },
  "varInspector": {
   "cols": {
    "lenName": 16,
    "lenType": 16,
    "lenVar": 40
   },
   "kernels_config": {
    "python": {
     "delete_cmd_postfix": "",
     "delete_cmd_prefix": "del ",
     "library": "var_list.py",
     "varRefreshCmd": "print(var_dic_list())"
    },
    "r": {
     "delete_cmd_postfix": ") ",
     "delete_cmd_prefix": "rm(",
     "library": "var_list.r",
     "varRefreshCmd": "cat(var_dic_list()) "
    }
   },
   "types_to_exclude": [
    "module",
    "function",
    "builtin_function_or_method",
    "instance",
    "_Feature"
   ],
   "window_display": false
  }
 },
 "nbformat": 4,
 "nbformat_minor": 5
}
