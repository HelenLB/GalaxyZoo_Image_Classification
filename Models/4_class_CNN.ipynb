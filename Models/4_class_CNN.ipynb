{
 "cells": [
  {
   "cell_type": "code",
   "execution_count": 1,
   "id": "60c1d42c",
   "metadata": {
    "ExecuteTime": {
     "end_time": "2023-01-12T15:30:50.074824Z",
     "start_time": "2023-01-12T15:30:45.264424Z"
    }
   },
   "outputs": [],
   "source": [
    "#Importing the libraries\n",
    "\n",
    "import os\n",
    "import numpy as np\n",
    "import pandas as pd\n",
    "import cv2 as cv\n",
    "from sklearn.model_selection import train_test_split\n",
    "from sklearn.preprocessing import LabelEncoder\n",
    "from keras.models import Sequential\n",
    "from keras.layers import Dense,Flatten,Conv2D,MaxPool2D,Dropout\n",
    "from sklearn.metrics import accuracy_score,confusion_matrix,classification_report\n",
    "import random \n",
    "import seaborn as sns\n",
    "import matplotlib.pyplot as plt\n",
    "import tensorflow as tf"
   ]
  },
  {
   "cell_type": "code",
   "execution_count": 2,
   "id": "788a8efa",
   "metadata": {
    "ExecuteTime": {
     "end_time": "2023-01-12T15:35:02.916632Z",
     "start_time": "2023-01-12T15:35:02.912608Z"
    }
   },
   "outputs": [],
   "source": [
    "path_train =\"C:/python_lessons/January_Project/split_images/train/\"\n",
    "path_test = \"C:/python_lessons/January_Project/split_images/val/\"\n",
    "\n",
    "Categories=[\"images_elliptical\",\"images_spiral_arms\",\"images_spiral_edge\",\"images_spiral_noarms\"]"
   ]
  },
  {
   "cell_type": "code",
   "execution_count": 163,
   "id": "77b7c74c",
   "metadata": {
    "ExecuteTime": {
     "end_time": "2023-01-13T17:35:59.889855Z",
     "start_time": "2023-01-13T17:35:54.868253Z"
    }
   },
   "outputs": [],
   "source": [
    "train_data = []\n",
    "def create_data():\n",
    "    for categories in Categories:\n",
    "        path = os.path.join(path_train , categories)\n",
    "        class_name = categories\n",
    "        for img in random.sample(os.listdir(path),300):\n",
    "            try:\n",
    "                img_array = cv.imread(os.path.join(path,img))\n",
    "                new_array = cv.resize(img_array , (50,50))\n",
    "                train_data.append([new_array , class_name])\n",
    "            except Exception as e:\n",
    "                pass\n",
    "create_data()"
   ]
  },
  {
   "cell_type": "code",
   "execution_count": 164,
   "id": "fa5f88f0",
   "metadata": {
    "ExecuteTime": {
     "end_time": "2023-01-13T17:36:01.451044Z",
     "start_time": "2023-01-13T17:36:01.437393Z"
    }
   },
   "outputs": [],
   "source": [
    "random.shuffle(train_data)"
   ]
  },
  {
   "cell_type": "code",
   "execution_count": 165,
   "id": "54a58b3f",
   "metadata": {
    "ExecuteTime": {
     "end_time": "2023-01-13T17:36:02.978083Z",
     "start_time": "2023-01-13T17:36:02.963976Z"
    }
   },
   "outputs": [],
   "source": [
    "x_train = []\n",
    "y_train = []\n",
    "for features,labels in train_data:\n",
    "    x_train.append(features)\n",
    "    y_train.append(labels)"
   ]
  },
  {
   "cell_type": "code",
   "execution_count": 166,
   "id": "13566a70",
   "metadata": {
    "ExecuteTime": {
     "end_time": "2023-01-13T17:36:05.253465Z",
     "start_time": "2023-01-13T17:36:05.239789Z"
    }
   },
   "outputs": [],
   "source": [
    "df = pd.DataFrame(y_train,columns=[\"labels\"])"
   ]
  },
  {
   "cell_type": "code",
   "execution_count": 167,
   "id": "1e1dfd89",
   "metadata": {
    "ExecuteTime": {
     "end_time": "2023-01-13T17:36:07.526767Z",
     "start_time": "2023-01-13T17:36:07.512760Z"
    }
   },
   "outputs": [
    {
     "data": {
      "text/html": [
       "<div>\n",
       "<style scoped>\n",
       "    .dataframe tbody tr th:only-of-type {\n",
       "        vertical-align: middle;\n",
       "    }\n",
       "\n",
       "    .dataframe tbody tr th {\n",
       "        vertical-align: top;\n",
       "    }\n",
       "\n",
       "    .dataframe thead th {\n",
       "        text-align: right;\n",
       "    }\n",
       "</style>\n",
       "<table border=\"1\" class=\"dataframe\">\n",
       "  <thead>\n",
       "    <tr style=\"text-align: right;\">\n",
       "      <th></th>\n",
       "      <th>labels</th>\n",
       "    </tr>\n",
       "  </thead>\n",
       "  <tbody>\n",
       "    <tr>\n",
       "      <th>0</th>\n",
       "      <td>images_spiral_edge</td>\n",
       "    </tr>\n",
       "    <tr>\n",
       "      <th>1</th>\n",
       "      <td>images_spiral_edge</td>\n",
       "    </tr>\n",
       "    <tr>\n",
       "      <th>2</th>\n",
       "      <td>images_spiral_noarms</td>\n",
       "    </tr>\n",
       "    <tr>\n",
       "      <th>3</th>\n",
       "      <td>images_spiral_arms</td>\n",
       "    </tr>\n",
       "    <tr>\n",
       "      <th>4</th>\n",
       "      <td>images_spiral_edge</td>\n",
       "    </tr>\n",
       "    <tr>\n",
       "      <th>...</th>\n",
       "      <td>...</td>\n",
       "    </tr>\n",
       "    <tr>\n",
       "      <th>1195</th>\n",
       "      <td>images_elliptical</td>\n",
       "    </tr>\n",
       "    <tr>\n",
       "      <th>1196</th>\n",
       "      <td>images_spiral_arms</td>\n",
       "    </tr>\n",
       "    <tr>\n",
       "      <th>1197</th>\n",
       "      <td>images_spiral_noarms</td>\n",
       "    </tr>\n",
       "    <tr>\n",
       "      <th>1198</th>\n",
       "      <td>images_spiral_noarms</td>\n",
       "    </tr>\n",
       "    <tr>\n",
       "      <th>1199</th>\n",
       "      <td>images_spiral_noarms</td>\n",
       "    </tr>\n",
       "  </tbody>\n",
       "</table>\n",
       "<p>1200 rows × 1 columns</p>\n",
       "</div>"
      ],
      "text/plain": [
       "                    labels\n",
       "0       images_spiral_edge\n",
       "1       images_spiral_edge\n",
       "2     images_spiral_noarms\n",
       "3       images_spiral_arms\n",
       "4       images_spiral_edge\n",
       "...                    ...\n",
       "1195     images_elliptical\n",
       "1196    images_spiral_arms\n",
       "1197  images_spiral_noarms\n",
       "1198  images_spiral_noarms\n",
       "1199  images_spiral_noarms\n",
       "\n",
       "[1200 rows x 1 columns]"
      ]
     },
     "execution_count": 167,
     "metadata": {},
     "output_type": "execute_result"
    }
   ],
   "source": [
    "df"
   ]
  },
  {
   "cell_type": "code",
   "execution_count": 168,
   "id": "24f4e440",
   "metadata": {
    "ExecuteTime": {
     "end_time": "2023-01-13T17:36:09.904362Z",
     "start_time": "2023-01-13T17:36:09.813433Z"
    }
   },
   "outputs": [
    {
     "name": "stderr",
     "output_type": "stream",
     "text": [
      "C:\\Users\\HelenLuhaar\\anaconda3\\lib\\site-packages\\seaborn\\_decorators.py:36: FutureWarning: Pass the following variable as a keyword arg: x. From version 0.12, the only valid positional argument will be `data`, and passing other arguments without an explicit keyword will result in an error or misinterpretation.\n",
      "  warnings.warn(\n"
     ]
    },
    {
     "data": {
      "image/png": "[encoded data removed]",
      "text/plain": [
       "<Figure size 432x288 with 1 Axes>"
      ]
     },
     "metadata": {
      "needs_background": "light"
     },
     "output_type": "display_data"
    }
   ],
   "source": [
    "sns.countplot(df['labels']);"
   ]
  },
  {
   "cell_type": "code",
   "execution_count": 169,
   "id": "a4c3babb",
   "metadata": {
    "ExecuteTime": {
     "end_time": "2023-01-13T17:36:12.530731Z",
     "start_time": "2023-01-13T17:36:12.517241Z"
    }
   },
   "outputs": [],
   "source": [
    "#Putting features into an array\n",
    "\n",
    "x_train = np.array(x_train)"
   ]
  },
  {
   "cell_type": "code",
   "execution_count": 170,
   "id": "8ed59942",
   "metadata": {
    "ExecuteTime": {
     "end_time": "2023-01-13T17:36:14.617045Z",
     "start_time": "2023-01-13T17:36:14.602006Z"
    }
   },
   "outputs": [],
   "source": [
    "le = LabelEncoder()\n",
    "y_train = le.fit_transform(y_train)"
   ]
  },
  {
   "cell_type": "code",
   "execution_count": 174,
   "id": "2f48c26f",
   "metadata": {
    "ExecuteTime": {
     "end_time": "2023-01-13T17:36:45.283875Z",
     "start_time": "2023-01-13T17:36:45.203527Z"
    }
   },
   "outputs": [
    {
     "data": {
      "text/plain": [
       "<matplotlib.image.AxesImage at 0x1e725232490>"
      ]
     },
     "execution_count": 174,
     "metadata": {},
     "output_type": "execute_result"
    },
    {
     "data": {
      "image/png": "[encoded data removed]",
      "text/plain": [
       "<Figure size 432x288 with 1 Axes>"
      ]
     },
     "metadata": {
      "needs_background": "light"
     },
     "output_type": "display_data"
    }
   ],
   "source": [
    "plt.imshow(x_train[55])"
   ]
  },
  {
   "cell_type": "code",
   "execution_count": 176,
   "id": "250cf229",
   "metadata": {
    "ExecuteTime": {
     "end_time": "2023-01-13T17:37:03.522787Z",
     "start_time": "2023-01-13T17:37:02.031099Z"
    }
   },
   "outputs": [],
   "source": [
    "test_data = []\n",
    "def create_data():\n",
    "    for categories in Categories:\n",
    "        path = os.path.join(path_test , categories)\n",
    "        class_name = categories\n",
    "        for img in random.sample(os.listdir(path),75):\n",
    "            try:\n",
    "                img_array = cv.imread(os.path.join(path,img))\n",
    "                new_array = cv.resize(img_array , (50,50))\n",
    "                test_data.append([new_array , class_name])\n",
    "            except Exception as e:\n",
    "                pass\n",
    "create_data()"
   ]
  },
  {
   "cell_type": "code",
   "execution_count": 177,
   "id": "b5fee6fb",
   "metadata": {
    "ExecuteTime": {
     "end_time": "2023-01-13T17:37:05.101599Z",
     "start_time": "2023-01-13T17:37:05.088551Z"
    }
   },
   "outputs": [],
   "source": [
    "random.shuffle(test_data)"
   ]
  },
  {
   "cell_type": "code",
   "execution_count": 178,
   "id": "ba70b7a6",
   "metadata": {
    "ExecuteTime": {
     "end_time": "2023-01-13T17:37:06.604255Z",
     "start_time": "2023-01-13T17:37:06.590257Z"
    }
   },
   "outputs": [],
   "source": [
    "x_test = []\n",
    "y_test = []\n",
    "for features,labels in test_data:\n",
    "    x_test.append(features)\n",
    "    y_test.append(labels)"
   ]
  },
  {
   "cell_type": "code",
   "execution_count": 179,
   "id": "8f4ff65f",
   "metadata": {
    "ExecuteTime": {
     "end_time": "2023-01-13T17:37:09.313412Z",
     "start_time": "2023-01-13T17:37:09.296646Z"
    }
   },
   "outputs": [],
   "source": [
    "x_test = np.array(x_test)"
   ]
  },
  {
   "cell_type": "code",
   "execution_count": 180,
   "id": "ac380a8d",
   "metadata": {
    "ExecuteTime": {
     "end_time": "2023-01-13T17:37:10.918282Z",
     "start_time": "2023-01-13T17:37:10.843352Z"
    }
   },
   "outputs": [
    {
     "data": {
      "text/plain": [
       "<matplotlib.image.AxesImage at 0x1e72a658460>"
      ]
     },
     "execution_count": 180,
     "metadata": {},
     "output_type": "execute_result"
    },
    {
     "data": {
      "image/png": "[encoded data removed]",
      "text/plain": [
       "<Figure size 432x288 with 1 Axes>"
      ]
     },
     "metadata": {
      "needs_background": "light"
     },
     "output_type": "display_data"
    }
   ],
   "source": [
    "plt.imshow(x_test[3])"
   ]
  },
  {
   "cell_type": "code",
   "execution_count": 181,
   "id": "cdb8db10",
   "metadata": {
    "ExecuteTime": {
     "end_time": "2023-01-13T17:37:16.987739Z",
     "start_time": "2023-01-13T17:37:16.981739Z"
    }
   },
   "outputs": [],
   "source": [
    "le = LabelEncoder()\n",
    "y_test = le.fit_transform(y_test)"
   ]
  },
  {
   "cell_type": "code",
   "execution_count": 182,
   "id": "f96b1456",
   "metadata": {
    "ExecuteTime": {
     "end_time": "2023-01-13T17:37:18.522202Z",
     "start_time": "2023-01-13T17:37:18.509208Z"
    }
   },
   "outputs": [
    {
     "data": {
      "text/plain": [
       "(1200, 50, 50, 3)"
      ]
     },
     "execution_count": 182,
     "metadata": {},
     "output_type": "execute_result"
    }
   ],
   "source": [
    "x_train.shape"
   ]
  },
  {
   "cell_type": "code",
   "execution_count": 183,
   "id": "65abeb65",
   "metadata": {
    "ExecuteTime": {
     "end_time": "2023-01-13T17:37:20.320909Z",
     "start_time": "2023-01-13T17:37:20.313910Z"
    }
   },
   "outputs": [
    {
     "data": {
      "text/plain": [
       "(300, 50, 50, 3)"
      ]
     },
     "execution_count": 183,
     "metadata": {},
     "output_type": "execute_result"
    }
   ],
   "source": [
    "x_test.shape"
   ]
  },
  {
   "cell_type": "code",
   "execution_count": 185,
   "id": "08f80ac7",
   "metadata": {
    "ExecuteTime": {
     "end_time": "2023-01-13T17:37:34.434415Z",
     "start_time": "2023-01-13T17:37:34.338771Z"
    }
   },
   "outputs": [],
   "source": [
    "cnn = Sequential()\n",
    "cnn.add(Conv2D(64,(3,3),activation=\"relu\",input_shape=(50,50,3)))\n",
    "cnn.add(MaxPool2D(2,2))\n",
    "cnn.add(Conv2D(128,(5,5),activation=\"relu\"))\n",
    "cnn.add(MaxPool2D(2,2))\n",
    "cnn.add(Flatten())\n",
    "cnn.add(Dense(212,activation=\"relu\"))\n",
    "cnn.add(Dense(4,activation=\"softmax\"))"
   ]
  },
  {
   "cell_type": "code",
   "execution_count": 186,
   "id": "8b37b3d7",
   "metadata": {
    "ExecuteTime": {
     "end_time": "2023-01-13T17:37:35.950236Z",
     "start_time": "2023-01-13T17:37:35.937201Z"
    }
   },
   "outputs": [],
   "source": [
    "cnn.compile(optimizer=\"adam\",loss=\"sparse_categorical_crossentropy\",metrics=['accuracy'])"
   ]
  },
  {
   "cell_type": "code",
   "execution_count": 193,
   "id": "1e3f5363",
   "metadata": {
    "ExecuteTime": {
     "end_time": "2023-01-13T17:42:02.793510Z",
     "start_time": "2023-01-13T17:39:30.407770Z"
    }
   },
   "outputs": [
    {
     "name": "stdout",
     "output_type": "stream",
     "text": [
      "Epoch 1/20\n",
      "38/38 [==============================] - 6s 147ms/step - loss: 0.2942 - accuracy: 0.8867 - val_loss: 3.9067 - val_accuracy: 0.3067\n",
      "Epoch 2/20\n",
      "38/38 [==============================] - 8s 208ms/step - loss: 0.2275 - accuracy: 0.9208 - val_loss: 4.2695 - val_accuracy: 0.2900\n",
      "Epoch 3/20\n",
      "38/38 [==============================] - 8s 204ms/step - loss: 0.1661 - accuracy: 0.9483 - val_loss: 4.9349 - val_accuracy: 0.3333\n",
      "Epoch 4/20\n",
      "38/38 [==============================] - 8s 200ms/step - loss: 0.1297 - accuracy: 0.9592 - val_loss: 5.1279 - val_accuracy: 0.3067\n",
      "Epoch 5/20\n",
      "38/38 [==============================] - 8s 200ms/step - loss: 0.1418 - accuracy: 0.9625 - val_loss: 5.1478 - val_accuracy: 0.3067\n",
      "Epoch 6/20\n",
      "38/38 [==============================] - 8s 206ms/step - loss: 0.1856 - accuracy: 0.9433 - val_loss: 4.8697 - val_accuracy: 0.3100\n",
      "Epoch 7/20\n",
      "38/38 [==============================] - 8s 200ms/step - loss: 0.1941 - accuracy: 0.9417 - val_loss: 5.9734 - val_accuracy: 0.3067\n",
      "Epoch 8/20\n",
      "38/38 [==============================] - 8s 210ms/step - loss: 0.1474 - accuracy: 0.9633 - val_loss: 5.6375 - val_accuracy: 0.3033\n",
      "Epoch 9/20\n",
      "38/38 [==============================] - 8s 201ms/step - loss: 0.1001 - accuracy: 0.9733 - val_loss: 6.1153 - val_accuracy: 0.3100\n",
      "Epoch 10/20\n",
      "38/38 [==============================] - 8s 201ms/step - loss: 0.1379 - accuracy: 0.9717 - val_loss: 5.5588 - val_accuracy: 0.3233\n",
      "Epoch 11/20\n",
      "38/38 [==============================] - 8s 200ms/step - loss: 0.1102 - accuracy: 0.9700 - val_loss: 6.1111 - val_accuracy: 0.3167\n",
      "Epoch 12/20\n",
      "38/38 [==============================] - 8s 202ms/step - loss: 0.0893 - accuracy: 0.9817 - val_loss: 6.4117 - val_accuracy: 0.3167\n",
      "Epoch 13/20\n",
      "38/38 [==============================] - 8s 198ms/step - loss: 0.0801 - accuracy: 0.9892 - val_loss: 6.3121 - val_accuracy: 0.3333\n",
      "Epoch 14/20\n",
      "38/38 [==============================] - 8s 203ms/step - loss: 0.0741 - accuracy: 0.9808 - val_loss: 6.4709 - val_accuracy: 0.3300\n",
      "Epoch 15/20\n",
      "38/38 [==============================] - 8s 202ms/step - loss: 0.0625 - accuracy: 0.9842 - val_loss: 7.1559 - val_accuracy: 0.3233\n",
      "Epoch 16/20\n",
      "38/38 [==============================] - 8s 204ms/step - loss: 0.0803 - accuracy: 0.9775 - val_loss: 6.8640 - val_accuracy: 0.3267\n",
      "Epoch 17/20\n",
      "38/38 [==============================] - 8s 201ms/step - loss: 0.0342 - accuracy: 0.9958 - val_loss: 7.4337 - val_accuracy: 0.3300\n",
      "Epoch 18/20\n",
      "38/38 [==============================] - 8s 202ms/step - loss: 0.0189 - accuracy: 0.9958 - val_loss: 7.6013 - val_accuracy: 0.3200\n",
      "Epoch 19/20\n",
      "38/38 [==============================] - 8s 210ms/step - loss: 0.0117 - accuracy: 0.9983 - val_loss: 7.8657 - val_accuracy: 0.3333\n",
      "Epoch 20/20\n",
      "38/38 [==============================] - 8s 206ms/step - loss: 0.0092 - accuracy: 0.9983 - val_loss: 8.1055 - val_accuracy: 0.3233\n"
     ]
    }
   ],
   "source": [
    "history_cnn = cnn.fit(x_train,y_train,validation_data=(x_test,y_test),epochs=20)"
   ]
  },
  {
   "cell_type": "code",
   "execution_count": 194,
   "id": "7f6a3029",
   "metadata": {
    "ExecuteTime": {
     "end_time": "2023-01-13T17:42:06.528828Z",
     "start_time": "2023-01-13T17:42:06.438139Z"
    }
   },
   "outputs": [
    {
     "data": {
      "image/png": "[encoded data removed]",
      "text/plain": [
       "<Figure size 432x288 with 1 Axes>"
      ]
     },
     "metadata": {
      "needs_background": "light"
     },
     "output_type": "display_data"
    }
   ],
   "source": [
    "plt.plot(history_cnn.history[\"loss\"])\n",
    "plt.plot(history_cnn.history[\"val_loss\"])\n",
    "plt.xlabel('Epoch')\n",
    "#plt.ylabel('*100%')\n",
    "plt.legend([\"train\",\"val\"]);"
   ]
  },
  {
   "cell_type": "code",
   "execution_count": 195,
   "id": "5b928b1c",
   "metadata": {
    "ExecuteTime": {
     "end_time": "2023-01-13T17:42:13.001026Z",
     "start_time": "2023-01-13T17:42:12.627689Z"
    }
   },
   "outputs": [
    {
     "name": "stdout",
     "output_type": "stream",
     "text": [
      "10/10 [==============================] - 0s 31ms/step\n"
     ]
    }
   ],
   "source": [
    "y_pred = cnn.predict(x_test)"
   ]
  },
  {
   "cell_type": "code",
   "execution_count": 196,
   "id": "13cf3640",
   "metadata": {
    "ExecuteTime": {
     "end_time": "2023-01-13T17:42:14.610508Z",
     "start_time": "2023-01-13T17:42:14.503698Z"
    },
    "scrolled": true
   },
   "outputs": [
    {
     "data": {
      "text/plain": [
       "<AxesSubplot:>"
      ]
     },
     "execution_count": 196,
     "metadata": {},
     "output_type": "execute_result"
    },
    {
     "data": {
      "image/png": "[encoded data removed]",
      "text/plain": [
       "<Figure size 432x288 with 2 Axes>"
      ]
     },
     "metadata": {
      "needs_background": "light"
     },
     "output_type": "display_data"
    }
   ],
   "source": [
    "sns.heatmap(confusion_matrix(y_pred.argmax(axis=1),y_test),annot=True)"
   ]
  },
  {
   "cell_type": "code",
   "execution_count": 197,
   "id": "c367bb25",
   "metadata": {
    "ExecuteTime": {
     "end_time": "2023-01-13T17:42:24.920269Z",
     "start_time": "2023-01-13T17:42:24.907125Z"
    }
   },
   "outputs": [
    {
     "data": {
      "text/plain": [
       "array([[22, 26, 13, 23],\n",
       "       [14, 23, 14, 14],\n",
       "       [16, 12, 28, 14],\n",
       "       [23, 14, 20, 24]], dtype=int64)"
      ]
     },
     "execution_count": 197,
     "metadata": {},
     "output_type": "execute_result"
    }
   ],
   "source": [
    "confusion_matrix(y_pred.argmax(axis=1),y_test)"
   ]
  },
  {
   "cell_type": "code",
   "execution_count": 198,
   "id": "14fc6187",
   "metadata": {
    "ExecuteTime": {
     "end_time": "2023-01-13T17:42:26.470845Z",
     "start_time": "2023-01-13T17:42:26.456580Z"
    }
   },
   "outputs": [
    {
     "data": {
      "text/plain": [
       "0.3233333333333333"
      ]
     },
     "execution_count": 198,
     "metadata": {},
     "output_type": "execute_result"
    }
   ],
   "source": [
    "accuracy_score(y_pred.argmax(axis=1),y_test)"
   ]
  },
  {
   "cell_type": "code",
   "execution_count": null,
   "id": "14bf9d14",
   "metadata": {},
   "outputs": [],
   "source": []
  }
 ],
 "metadata": {
  "kernelspec": {
   "display_name": "Python 3 (ipykernel)",
   "language": "python",
   "name": "python3"
  },
  "language_info": {
   "codemirror_mode": {
    "name": "ipython",
    "version": 3
   },
   "file_extension": ".py",
   "mimetype": "text/x-python",
   "name": "python",
   "nbconvert_exporter": "python",
   "pygments_lexer": "ipython3",
   "version": "3.9.7"
  },
  "varInspector": {
   "cols": {
    "lenName": 16,
    "lenType": 16,
    "lenVar": 40
   },
   "kernels_config": {
    "python": {
     "delete_cmd_postfix": "",
     "delete_cmd_prefix": "del ",
     "library": "var_list.py",
     "varRefreshCmd": "print(var_dic_list())"
    },
    "r": {
     "delete_cmd_postfix": ") ",
     "delete_cmd_prefix": "rm(",
     "library": "var_list.r",
     "varRefreshCmd": "cat(var_dic_list()) "
    }
   },
   "types_to_exclude": [
    "module",
    "function",
    "builtin_function_or_method",
    "instance",
    "_Feature"
   ],
   "window_display": false
  }
 },
 "nbformat": 4,
 "nbformat_minor": 5
}
