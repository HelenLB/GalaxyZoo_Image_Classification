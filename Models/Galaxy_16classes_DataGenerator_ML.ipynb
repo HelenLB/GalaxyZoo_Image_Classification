{
 "cells": [
  {
   "cell_type": "code",
   "execution_count": 1,
   "id": "fcc4ebcc",
   "metadata": {
    "ExecuteTime": {
     "end_time": "2023-01-12T11:09:10.558192Z",
     "start_time": "2023-01-12T11:09:04.875518Z"
    }
   },
   "outputs": [],
   "source": [
    "#Importing necessary libraries\n",
    "\n",
    "import random as rn\n",
    "import os\n",
    "import numpy as np\n",
    "import pandas as pd\n",
    "import cv2 as cv\n",
    "from sklearn.model_selection import train_test_split\n",
    "from sklearn.preprocessing import LabelEncoder\n",
    "from keras.models import Sequential, Model\n",
    "from keras.layers.core import Flatten, Dense, Dropout, Lambda, Reshape\n",
    "from keras.layers import Input\n",
    "from keras.layers.convolutional import Convolution2D, MaxPooling2D, ZeroPadding2D\n",
    "from keras.layers import  Activation\n",
    "from keras.optimizers import SGD, RMSprop, Adam\n",
    "from sklearn.metrics import accuracy_score,confusion_matrix,classification_report\n",
    "import seaborn as sns\n",
    "import matplotlib.pyplot as plt\n",
    "import tensorflow as tf\n",
    "%matplotlib inline"
   ]
  },
  {
   "cell_type": "code",
   "execution_count": 2,
   "id": "effd643a",
   "metadata": {
    "ExecuteTime": {
     "end_time": "2023-01-12T11:09:13.279853Z",
     "start_time": "2023-01-12T11:09:13.127271Z"
    }
   },
   "outputs": [],
   "source": [
    "#Defining the path to the data directories\n",
    "#One path will be for the csv which contains information about the classification and the other is folder with the images\n",
    "\n",
    "df = pd.read_csv('Galaxy_16classes.csv')\n",
    "pic_all = \"C:/python_lessons/January_Project/images/\""
   ]
  },
  {
   "cell_type": "code",
   "execution_count": 3,
   "id": "be77ecf1",
   "metadata": {
    "ExecuteTime": {
     "end_time": "2023-01-12T11:09:14.890851Z",
     "start_time": "2023-01-12T11:09:14.877732Z"
    }
   },
   "outputs": [
    {
     "data": {
      "text/html": [
       "<div>\n",
       "<style scoped>\n",
       "    .dataframe tbody tr th:only-of-type {\n",
       "        vertical-align: middle;\n",
       "    }\n",
       "\n",
       "    .dataframe tbody tr th {\n",
       "        vertical-align: top;\n",
       "    }\n",
       "\n",
       "    .dataframe thead th {\n",
       "        text-align: right;\n",
       "    }\n",
       "</style>\n",
       "<table border=\"1\" class=\"dataframe\">\n",
       "  <thead>\n",
       "    <tr style=\"text-align: right;\">\n",
       "      <th></th>\n",
       "      <th>objid</th>\n",
       "      <th>sample</th>\n",
       "      <th>asset_id</th>\n",
       "      <th>gz2_class</th>\n",
       "      <th>category</th>\n",
       "      <th>Target</th>\n",
       "    </tr>\n",
       "  </thead>\n",
       "  <tbody>\n",
       "    <tr>\n",
       "      <th>0</th>\n",
       "      <td>5.880000e+17</td>\n",
       "      <td>original</td>\n",
       "      <td>3</td>\n",
       "      <td>Sc?l</td>\n",
       "      <td>Spiral</td>\n",
       "      <td>S</td>\n",
       "    </tr>\n",
       "    <tr>\n",
       "      <th>1</th>\n",
       "      <td>5.880000e+17</td>\n",
       "      <td>original</td>\n",
       "      <td>4</td>\n",
       "      <td>Sc?l</td>\n",
       "      <td>Spiral</td>\n",
       "      <td>S</td>\n",
       "    </tr>\n",
       "    <tr>\n",
       "      <th>2</th>\n",
       "      <td>5.880000e+17</td>\n",
       "      <td>original</td>\n",
       "      <td>5</td>\n",
       "      <td>Er</td>\n",
       "      <td>Elliptical</td>\n",
       "      <td>Er</td>\n",
       "    </tr>\n",
       "    <tr>\n",
       "      <th>3</th>\n",
       "      <td>5.880000e+17</td>\n",
       "      <td>original</td>\n",
       "      <td>6</td>\n",
       "      <td>Sc1t</td>\n",
       "      <td>Spiral</td>\n",
       "      <td>S1</td>\n",
       "    </tr>\n",
       "    <tr>\n",
       "      <th>4</th>\n",
       "      <td>5.880000e+17</td>\n",
       "      <td>original</td>\n",
       "      <td>7</td>\n",
       "      <td>Sc1t</td>\n",
       "      <td>Spiral</td>\n",
       "      <td>S1</td>\n",
       "    </tr>\n",
       "  </tbody>\n",
       "</table>\n",
       "</div>"
      ],
      "text/plain": [
       "          objid    sample  asset_id gz2_class    category Target\n",
       "0  5.880000e+17  original         3      Sc?l      Spiral      S\n",
       "1  5.880000e+17  original         4      Sc?l      Spiral      S\n",
       "2  5.880000e+17  original         5        Er  Elliptical     Er\n",
       "3  5.880000e+17  original         6      Sc1t      Spiral     S1\n",
       "4  5.880000e+17  original         7      Sc1t      Spiral     S1"
      ]
     },
     "execution_count": 3,
     "metadata": {},
     "output_type": "execute_result"
    }
   ],
   "source": [
    "df.head()"
   ]
  },
  {
   "cell_type": "code",
   "execution_count": 4,
   "id": "a0d23ea7",
   "metadata": {
    "ExecuteTime": {
     "end_time": "2023-01-12T11:09:17.693003Z",
     "start_time": "2023-01-12T11:09:17.668806Z"
    }
   },
   "outputs": [],
   "source": [
    "df = df.drop(['category'], axis=1)"
   ]
  },
  {
   "cell_type": "code",
   "execution_count": 5,
   "id": "4c0e4c85",
   "metadata": {
    "ExecuteTime": {
     "end_time": "2023-01-12T11:09:18.328805Z",
     "start_time": "2023-01-12T11:09:18.314797Z"
    }
   },
   "outputs": [
    {
     "data": {
      "text/html": [
       "<div>\n",
       "<style scoped>\n",
       "    .dataframe tbody tr th:only-of-type {\n",
       "        vertical-align: middle;\n",
       "    }\n",
       "\n",
       "    .dataframe tbody tr th {\n",
       "        vertical-align: top;\n",
       "    }\n",
       "\n",
       "    .dataframe thead th {\n",
       "        text-align: right;\n",
       "    }\n",
       "</style>\n",
       "<table border=\"1\" class=\"dataframe\">\n",
       "  <thead>\n",
       "    <tr style=\"text-align: right;\">\n",
       "      <th></th>\n",
       "      <th>objid</th>\n",
       "      <th>sample</th>\n",
       "      <th>asset_id</th>\n",
       "      <th>gz2_class</th>\n",
       "      <th>Target</th>\n",
       "    </tr>\n",
       "  </thead>\n",
       "  <tbody>\n",
       "    <tr>\n",
       "      <th>0</th>\n",
       "      <td>5.880000e+17</td>\n",
       "      <td>original</td>\n",
       "      <td>3</td>\n",
       "      <td>Sc?l</td>\n",
       "      <td>S</td>\n",
       "    </tr>\n",
       "    <tr>\n",
       "      <th>1</th>\n",
       "      <td>5.880000e+17</td>\n",
       "      <td>original</td>\n",
       "      <td>4</td>\n",
       "      <td>Sc?l</td>\n",
       "      <td>S</td>\n",
       "    </tr>\n",
       "    <tr>\n",
       "      <th>2</th>\n",
       "      <td>5.880000e+17</td>\n",
       "      <td>original</td>\n",
       "      <td>5</td>\n",
       "      <td>Er</td>\n",
       "      <td>Er</td>\n",
       "    </tr>\n",
       "    <tr>\n",
       "      <th>3</th>\n",
       "      <td>5.880000e+17</td>\n",
       "      <td>original</td>\n",
       "      <td>6</td>\n",
       "      <td>Sc1t</td>\n",
       "      <td>S1</td>\n",
       "    </tr>\n",
       "    <tr>\n",
       "      <th>4</th>\n",
       "      <td>5.880000e+17</td>\n",
       "      <td>original</td>\n",
       "      <td>7</td>\n",
       "      <td>Sc1t</td>\n",
       "      <td>S1</td>\n",
       "    </tr>\n",
       "  </tbody>\n",
       "</table>\n",
       "</div>"
      ],
      "text/plain": [
       "          objid    sample  asset_id gz2_class Target\n",
       "0  5.880000e+17  original         3      Sc?l      S\n",
       "1  5.880000e+17  original         4      Sc?l      S\n",
       "2  5.880000e+17  original         5        Er     Er\n",
       "3  5.880000e+17  original         6      Sc1t     S1\n",
       "4  5.880000e+17  original         7      Sc1t     S1"
      ]
     },
     "execution_count": 5,
     "metadata": {},
     "output_type": "execute_result"
    }
   ],
   "source": [
    "df.head()"
   ]
  },
  {
   "cell_type": "code",
   "execution_count": 6,
   "id": "a1bd46fb",
   "metadata": {
    "ExecuteTime": {
     "end_time": "2023-01-12T11:09:27.194206Z",
     "start_time": "2023-01-12T11:09:27.168710Z"
    }
   },
   "outputs": [],
   "source": [
    "df_sample = df.sample(n=20000, replace=False, random_state=1)"
   ]
  },
  {
   "cell_type": "code",
   "execution_count": 7,
   "id": "a3bbaf0f",
   "metadata": {
    "ExecuteTime": {
     "end_time": "2023-01-12T11:09:31.348986Z",
     "start_time": "2023-01-12T11:09:31.335921Z"
    }
   },
   "outputs": [],
   "source": [
    "df_sample = df_sample[df_sample.Target != 'A']"
   ]
  },
  {
   "cell_type": "code",
   "execution_count": 8,
   "id": "f8b97dde",
   "metadata": {
    "ExecuteTime": {
     "end_time": "2023-01-12T11:09:32.313037Z",
     "start_time": "2023-01-12T11:09:32.292295Z"
    }
   },
   "outputs": [
    {
     "data": {
      "text/plain": [
       "S      4003\n",
       "Ei     3947\n",
       "Er     3662\n",
       "SB2    1987\n",
       "Se     1467\n",
       "SB     1338\n",
       "S2     1224\n",
       "Ec      738\n",
       "S3      498\n",
       "SB3     291\n",
       "S1      252\n",
       "S5      186\n",
       "S4      140\n",
       "SB4      84\n",
       "SB1      66\n",
       "SB5      63\n",
       "Name: Target, dtype: int64"
      ]
     },
     "execution_count": 8,
     "metadata": {},
     "output_type": "execute_result"
    }
   ],
   "source": [
    "df_sample['Target'].value_counts()"
   ]
  },
  {
   "cell_type": "code",
   "execution_count": 20,
   "id": "d0af5509",
   "metadata": {
    "ExecuteTime": {
     "end_time": "2023-01-10T16:34:06.360361Z",
     "start_time": "2023-01-10T16:34:06.312687Z"
    }
   },
   "outputs": [],
   "source": [
    "#Dropping everything below 1000, in this case, the lowest is S1 (spiral with 1 arm) with 1235 records\n",
    "\n",
    "#df_sample = df_sample[df_sample.Target != 'SB5']\n",
    "#df_sample = df_sample[df_sample.Target != 'SB4']\n",
    "#df_sample = df_sample[df_sample.Target != 'SB1']\n",
    "#df_sample = df_sample[df_sample.Target != 'S4']\n",
    "#df_sample = df_sample[df_sample.Target != 'S5']"
   ]
  },
  {
   "cell_type": "code",
   "execution_count": 9,
   "id": "9634fbdd",
   "metadata": {
    "ExecuteTime": {
     "end_time": "2023-01-12T11:09:39.777391Z",
     "start_time": "2023-01-12T11:09:39.768154Z"
    }
   },
   "outputs": [
    {
     "data": {
      "text/plain": [
       "S      4003\n",
       "Ei     3947\n",
       "Er     3662\n",
       "SB2    1987\n",
       "Se     1467\n",
       "SB     1338\n",
       "S2     1224\n",
       "Ec      738\n",
       "S3      498\n",
       "SB3     291\n",
       "S1      252\n",
       "S5      186\n",
       "S4      140\n",
       "SB4      84\n",
       "SB1      66\n",
       "SB5      63\n",
       "Name: Target, dtype: int64"
      ]
     },
     "execution_count": 9,
     "metadata": {},
     "output_type": "execute_result"
    }
   ],
   "source": [
    "df_sample['Target'].value_counts()"
   ]
  },
  {
   "cell_type": "code",
   "execution_count": 10,
   "id": "0436d2b9",
   "metadata": {
    "ExecuteTime": {
     "end_time": "2023-01-12T11:09:47.077675Z",
     "start_time": "2023-01-12T11:09:47.061008Z"
    }
   },
   "outputs": [],
   "source": [
    "#Encoding the Target\n",
    "\n",
    "df_sample['Target_encoded'] = df_sample['Target']\n",
    "le = LabelEncoder()\n",
    "df_sample['Target_encoded'] = le.fit_transform(df_sample['Target_encoded'])"
   ]
  },
  {
   "cell_type": "code",
   "execution_count": 11,
   "id": "0ff706cf",
   "metadata": {
    "ExecuteTime": {
     "end_time": "2023-01-12T11:09:48.245967Z",
     "start_time": "2023-01-12T11:09:48.231283Z"
    }
   },
   "outputs": [
    {
     "data": {
      "text/html": [
       "<div>\n",
       "<style scoped>\n",
       "    .dataframe tbody tr th:only-of-type {\n",
       "        vertical-align: middle;\n",
       "    }\n",
       "\n",
       "    .dataframe tbody tr th {\n",
       "        vertical-align: top;\n",
       "    }\n",
       "\n",
       "    .dataframe thead th {\n",
       "        text-align: right;\n",
       "    }\n",
       "</style>\n",
       "<table border=\"1\" class=\"dataframe\">\n",
       "  <thead>\n",
       "    <tr style=\"text-align: right;\">\n",
       "      <th></th>\n",
       "      <th>objid</th>\n",
       "      <th>sample</th>\n",
       "      <th>asset_id</th>\n",
       "      <th>gz2_class</th>\n",
       "      <th>Target</th>\n",
       "      <th>Target_encoded</th>\n",
       "    </tr>\n",
       "  </thead>\n",
       "  <tbody>\n",
       "    <tr>\n",
       "      <th>201076</th>\n",
       "      <td>5.880000e+17</td>\n",
       "      <td>original</td>\n",
       "      <td>219288</td>\n",
       "      <td>Ei</td>\n",
       "      <td>Ei</td>\n",
       "      <td>1</td>\n",
       "    </tr>\n",
       "    <tr>\n",
       "      <th>244334</th>\n",
       "      <td>5.880000e+17</td>\n",
       "      <td>extra</td>\n",
       "      <td>265845</td>\n",
       "      <td>Er</td>\n",
       "      <td>Er</td>\n",
       "      <td>2</td>\n",
       "    </tr>\n",
       "    <tr>\n",
       "      <th>196847</th>\n",
       "      <td>5.880000e+17</td>\n",
       "      <td>original</td>\n",
       "      <td>214930</td>\n",
       "      <td>Sc2t</td>\n",
       "      <td>S2</td>\n",
       "      <td>5</td>\n",
       "    </tr>\n",
       "    <tr>\n",
       "      <th>168257</th>\n",
       "      <td>5.880000e+17</td>\n",
       "      <td>original</td>\n",
       "      <td>181898</td>\n",
       "      <td>SBb2m</td>\n",
       "      <td>SB2</td>\n",
       "      <td>11</td>\n",
       "    </tr>\n",
       "    <tr>\n",
       "      <th>236083</th>\n",
       "      <td>5.880000e+17</td>\n",
       "      <td>extra</td>\n",
       "      <td>256678</td>\n",
       "      <td>Sc?t</td>\n",
       "      <td>S</td>\n",
       "      <td>3</td>\n",
       "    </tr>\n",
       "  </tbody>\n",
       "</table>\n",
       "</div>"
      ],
      "text/plain": [
       "               objid    sample  asset_id gz2_class Target  Target_encoded\n",
       "201076  5.880000e+17  original    219288        Ei     Ei               1\n",
       "244334  5.880000e+17     extra    265845        Er     Er               2\n",
       "196847  5.880000e+17  original    214930      Sc2t     S2               5\n",
       "168257  5.880000e+17  original    181898     SBb2m    SB2              11\n",
       "236083  5.880000e+17     extra    256678      Sc?t      S               3"
      ]
     },
     "execution_count": 11,
     "metadata": {},
     "output_type": "execute_result"
    }
   ],
   "source": [
    "df_sample.head()"
   ]
  },
  {
   "cell_type": "code",
   "execution_count": 12,
   "id": "d0ec0f38",
   "metadata": {
    "ExecuteTime": {
     "end_time": "2023-01-12T11:09:51.974956Z",
     "start_time": "2023-01-12T11:09:51.965833Z"
    }
   },
   "outputs": [
    {
     "data": {
      "text/plain": [
       "3     4003\n",
       "1     3947\n",
       "2     3662\n",
       "11    1987\n",
       "15    1467\n",
       "9     1338\n",
       "5     1224\n",
       "0      738\n",
       "6      498\n",
       "12     291\n",
       "4      252\n",
       "8      186\n",
       "7      140\n",
       "13      84\n",
       "10      66\n",
       "14      63\n",
       "Name: Target_encoded, dtype: int64"
      ]
     },
     "execution_count": 12,
     "metadata": {},
     "output_type": "execute_result"
    }
   ],
   "source": [
    "df_sample['Target_encoded'].value_counts()"
   ]
  },
  {
   "cell_type": "code",
   "execution_count": 13,
   "id": "999ed573",
   "metadata": {
    "ExecuteTime": {
     "end_time": "2023-01-12T11:09:59.829309Z",
     "start_time": "2023-01-12T11:09:59.803522Z"
    }
   },
   "outputs": [],
   "source": [
    "#Creating new frames for each class to undersample\n",
    "\n",
    "df_SB4 = df_sample[df_sample.Target_encoded == 13]\n",
    "df_SB5 = df_sample[df_sample.Target_encoded == 14]\n",
    "\n",
    "df_S4 = df_sample[df_sample.Target_encoded == 7]\n",
    "df_S5 = df_sample[df_sample.Target_encoded == 8]\n",
    "df_SB1 = df_sample[df_sample.Target_encoded==10]\n",
    "\n",
    "df_S1 = df_sample[df_sample.Target_encoded == 4]\n",
    "df_SB3 = df_sample[df_sample.Target_encoded == 12]\n",
    "df_S3 = df_sample[df_sample.Target_encoded==6]\n",
    "\n",
    "df_Ec = df_sample[df_sample.Target_encoded == 0]\n",
    "df_S2 = df_sample[df_sample.Target_encoded == 5]\n",
    "df_SB = df_sample[df_sample.Target_encoded== 9]\n",
    "\n",
    "df_Se = df_sample[df_sample.Target_encoded == 15]\n",
    "df_SB2 = df_sample[df_sample.Target_encoded == 11]\n",
    "df_Er = df_sample[df_sample.Target_encoded==2]\n",
    "\n",
    "df_Ei = df_sample[df_sample.Target_encoded == 1]\n",
    "df_S = df_sample[df_sample.Target_encoded == 3]\n"
   ]
  },
  {
   "cell_type": "code",
   "execution_count": 14,
   "id": "68aed791",
   "metadata": {
    "ExecuteTime": {
     "end_time": "2023-01-12T11:10:01.250954Z",
     "start_time": "2023-01-12T11:10:01.228608Z"
    }
   },
   "outputs": [],
   "source": [
    "#Undersampling the data to Spiral with 1 arm category S1\n",
    "\n",
    "SB4_sampled = df_SB4.sample(n=len(df_SB5), random_state=101)\n",
    "S4_sampled = df_S4.sample(n=len(df_SB5), random_state=101)\n",
    "S5_sampled = df_S5.sample(n=len(df_SB5), random_state=101)\n",
    "SB1_sampled = df_SB1.sample(n=len(df_SB5), random_state=101)\n",
    "S1_sampled = df_S1.sample(n=len(df_SB5), random_state=101)\n",
    "\n",
    "SB3_sampled = df_SB3.sample(n=len(df_SB5), random_state=101)\n",
    "S3_sampled = df_S3.sample(n=len(df_SB5), random_state=101)\n",
    "Ec_sampled = df_Ec.sample(n=len(df_SB5), random_state=101)\n",
    "S2_sampled = df_S2.sample(n=len(df_SB5), random_state=101)\n",
    "SB_sampled = df_SB.sample(n=len(df_SB5), random_state=101)\n",
    "Se_sampled = df_Se.sample(n=len(df_SB5), random_state=101)\n",
    "SB2_sampled = df_SB2.sample(n=len(df_SB5), random_state=101)\n",
    "Er_sampled = df_Er.sample(n=len(df_SB5), random_state=101)\n",
    "Ei_sampled = df_Ei.sample(n=len(df_SB5), random_state=101)\n",
    "S_sampled = df_S.sample(n=len(df_SB5), random_state=101)\n",
    "df_balanced = pd.concat([SB4_sampled, S4_sampled, S5_sampled, SB1_sampled, S1_sampled, SB3_sampled,S3_sampled, Ec_sampled, S2_sampled, SB_sampled, Se_sampled, SB2_sampled, Er_sampled, Ei_sampled, S_sampled, df_SB5],axis=0)"
   ]
  },
  {
   "cell_type": "code",
   "execution_count": 15,
   "id": "63182053",
   "metadata": {
    "ExecuteTime": {
     "end_time": "2023-01-12T11:10:02.814824Z",
     "start_time": "2023-01-12T11:10:02.802412Z"
    }
   },
   "outputs": [
    {
     "data": {
      "text/html": [
       "<div>\n",
       "<style scoped>\n",
       "    .dataframe tbody tr th:only-of-type {\n",
       "        vertical-align: middle;\n",
       "    }\n",
       "\n",
       "    .dataframe tbody tr th {\n",
       "        vertical-align: top;\n",
       "    }\n",
       "\n",
       "    .dataframe thead th {\n",
       "        text-align: right;\n",
       "    }\n",
       "</style>\n",
       "<table border=\"1\" class=\"dataframe\">\n",
       "  <thead>\n",
       "    <tr style=\"text-align: right;\">\n",
       "      <th></th>\n",
       "      <th>objid</th>\n",
       "      <th>sample</th>\n",
       "      <th>asset_id</th>\n",
       "      <th>gz2_class</th>\n",
       "      <th>Target</th>\n",
       "      <th>Target_encoded</th>\n",
       "    </tr>\n",
       "  </thead>\n",
       "  <tbody>\n",
       "    <tr>\n",
       "      <th>0</th>\n",
       "      <td>5.880000e+17</td>\n",
       "      <td>original</td>\n",
       "      <td>141671</td>\n",
       "      <td>SBc</td>\n",
       "      <td>SB</td>\n",
       "      <td>9</td>\n",
       "    </tr>\n",
       "    <tr>\n",
       "      <th>1</th>\n",
       "      <td>5.880000e+17</td>\n",
       "      <td>original</td>\n",
       "      <td>71693</td>\n",
       "      <td>SBc?m</td>\n",
       "      <td>SB</td>\n",
       "      <td>9</td>\n",
       "    </tr>\n",
       "    <tr>\n",
       "      <th>2</th>\n",
       "      <td>5.880000e+17</td>\n",
       "      <td>original</td>\n",
       "      <td>94793</td>\n",
       "      <td>Ei</td>\n",
       "      <td>Ei</td>\n",
       "      <td>1</td>\n",
       "    </tr>\n",
       "    <tr>\n",
       "      <th>3</th>\n",
       "      <td>5.880000e+17</td>\n",
       "      <td>original</td>\n",
       "      <td>157328</td>\n",
       "      <td>Sb1t(r)</td>\n",
       "      <td>S1</td>\n",
       "      <td>4</td>\n",
       "    </tr>\n",
       "    <tr>\n",
       "      <th>4</th>\n",
       "      <td>5.880000e+17</td>\n",
       "      <td>original</td>\n",
       "      <td>113469</td>\n",
       "      <td>Ei</td>\n",
       "      <td>Ei</td>\n",
       "      <td>1</td>\n",
       "    </tr>\n",
       "    <tr>\n",
       "      <th>...</th>\n",
       "      <td>...</td>\n",
       "      <td>...</td>\n",
       "      <td>...</td>\n",
       "      <td>...</td>\n",
       "      <td>...</td>\n",
       "      <td>...</td>\n",
       "    </tr>\n",
       "    <tr>\n",
       "      <th>1003</th>\n",
       "      <td>5.880000e+17</td>\n",
       "      <td>original</td>\n",
       "      <td>120543</td>\n",
       "      <td>Sc3t</td>\n",
       "      <td>S3</td>\n",
       "      <td>6</td>\n",
       "    </tr>\n",
       "    <tr>\n",
       "      <th>1004</th>\n",
       "      <td>5.880000e+17</td>\n",
       "      <td>original</td>\n",
       "      <td>201644</td>\n",
       "      <td>Sc3m</td>\n",
       "      <td>S3</td>\n",
       "      <td>6</td>\n",
       "    </tr>\n",
       "    <tr>\n",
       "      <th>1005</th>\n",
       "      <td>5.880000e+17</td>\n",
       "      <td>original</td>\n",
       "      <td>118110</td>\n",
       "      <td>SBb4t(r)</td>\n",
       "      <td>SB4</td>\n",
       "      <td>13</td>\n",
       "    </tr>\n",
       "    <tr>\n",
       "      <th>1006</th>\n",
       "      <td>5.880000e+17</td>\n",
       "      <td>original</td>\n",
       "      <td>26221</td>\n",
       "      <td>Ser</td>\n",
       "      <td>Se</td>\n",
       "      <td>15</td>\n",
       "    </tr>\n",
       "    <tr>\n",
       "      <th>1007</th>\n",
       "      <td>5.880000e+17</td>\n",
       "      <td>original</td>\n",
       "      <td>133468</td>\n",
       "      <td>SBb+t</td>\n",
       "      <td>SB5</td>\n",
       "      <td>14</td>\n",
       "    </tr>\n",
       "  </tbody>\n",
       "</table>\n",
       "<p>1008 rows × 6 columns</p>\n",
       "</div>"
      ],
      "text/plain": [
       "             objid    sample  asset_id gz2_class Target  Target_encoded\n",
       "0     5.880000e+17  original    141671       SBc     SB               9\n",
       "1     5.880000e+17  original     71693     SBc?m     SB               9\n",
       "2     5.880000e+17  original     94793        Ei     Ei               1\n",
       "3     5.880000e+17  original    157328   Sb1t(r)     S1               4\n",
       "4     5.880000e+17  original    113469        Ei     Ei               1\n",
       "...            ...       ...       ...       ...    ...             ...\n",
       "1003  5.880000e+17  original    120543      Sc3t     S3               6\n",
       "1004  5.880000e+17  original    201644      Sc3m     S3               6\n",
       "1005  5.880000e+17  original    118110  SBb4t(r)    SB4              13\n",
       "1006  5.880000e+17  original     26221       Ser     Se              15\n",
       "1007  5.880000e+17  original    133468     SBb+t    SB5              14\n",
       "\n",
       "[1008 rows x 6 columns]"
      ]
     },
     "execution_count": 15,
     "metadata": {},
     "output_type": "execute_result"
    }
   ],
   "source": [
    "#Shuffling the data and resetting the index\n",
    "\n",
    "df_processed = df_balanced.sample(frac=1).reset_index(drop=True)\n",
    "\n",
    "df_processed"
   ]
  },
  {
   "cell_type": "code",
   "execution_count": 16,
   "id": "621b78ca",
   "metadata": {
    "ExecuteTime": {
     "end_time": "2023-01-12T11:10:05.940948Z",
     "start_time": "2023-01-12T11:10:05.707282Z"
    }
   },
   "outputs": [
    {
     "name": "stderr",
     "output_type": "stream",
     "text": [
      "C:\\Users\\HelenLuhaar\\anaconda3\\lib\\site-packages\\seaborn\\_decorators.py:36: FutureWarning: Pass the following variable as a keyword arg: x. From version 0.12, the only valid positional argument will be `data`, and passing other arguments without an explicit keyword will result in an error or misinterpretation.\n",
      "  warnings.warn(\n"
     ]
    },
    {
     "data": {
      "image/png": "[encoded data removed]",
      "text/plain": [
       "<Figure size 432x288 with 1 Axes>"
      ]
     },
     "metadata": {
      "needs_background": "light"
     },
     "output_type": "display_data"
    }
   ],
   "source": [
    "sns.countplot(df_processed['Target']);"
   ]
  },
  {
   "cell_type": "code",
   "execution_count": 17,
   "id": "fcc651e3",
   "metadata": {
    "ExecuteTime": {
     "end_time": "2023-01-12T11:10:16.472543Z",
     "start_time": "2023-01-12T11:10:16.450915Z"
    }
   },
   "outputs": [
    {
     "name": "stdout",
     "output_type": "stream",
     "text": [
      "No. of training examples: 806\n",
      "No. of testing examples: 202\n"
     ]
    }
   ],
   "source": [
    "#Splitting the data into training and testing sets in the dataframe\n",
    "\n",
    "training_data = df_processed.sample(frac=0.8, random_state=25)\n",
    "\n",
    "testing_data = df_processed.drop(training_data.index)\n",
    "\n",
    "print(f\"No. of training examples: {training_data.shape[0]}\")\n",
    "print(f\"No. of testing examples: {testing_data.shape[0]}\")"
   ]
  },
  {
   "cell_type": "code",
   "execution_count": 18,
   "id": "38b87f21",
   "metadata": {
    "ExecuteTime": {
     "end_time": "2023-01-12T11:10:17.911302Z",
     "start_time": "2023-01-12T11:10:17.902226Z"
    }
   },
   "outputs": [],
   "source": [
    "#Resetting the index, otherwise the matching with the image won't work\n",
    "\n",
    "training_data = training_data.reset_index(drop=True)\n",
    "testing_data = testing_data.reset_index(drop=True)"
   ]
  },
  {
   "cell_type": "code",
   "execution_count": 19,
   "id": "32b890f7",
   "metadata": {
    "ExecuteTime": {
     "end_time": "2023-01-12T11:10:18.816983Z",
     "start_time": "2023-01-12T11:10:18.806497Z"
    }
   },
   "outputs": [
    {
     "data": {
      "text/html": [
       "<div>\n",
       "<style scoped>\n",
       "    .dataframe tbody tr th:only-of-type {\n",
       "        vertical-align: middle;\n",
       "    }\n",
       "\n",
       "    .dataframe tbody tr th {\n",
       "        vertical-align: top;\n",
       "    }\n",
       "\n",
       "    .dataframe thead th {\n",
       "        text-align: right;\n",
       "    }\n",
       "</style>\n",
       "<table border=\"1\" class=\"dataframe\">\n",
       "  <thead>\n",
       "    <tr style=\"text-align: right;\">\n",
       "      <th></th>\n",
       "      <th>objid</th>\n",
       "      <th>sample</th>\n",
       "      <th>asset_id</th>\n",
       "      <th>gz2_class</th>\n",
       "      <th>Target</th>\n",
       "      <th>Target_encoded</th>\n",
       "    </tr>\n",
       "  </thead>\n",
       "  <tbody>\n",
       "    <tr>\n",
       "      <th>0</th>\n",
       "      <td>5.880000e+17</td>\n",
       "      <td>original</td>\n",
       "      <td>228007</td>\n",
       "      <td>Sc+m</td>\n",
       "      <td>S5</td>\n",
       "      <td>8</td>\n",
       "    </tr>\n",
       "    <tr>\n",
       "      <th>1</th>\n",
       "      <td>5.880000e+17</td>\n",
       "      <td>extra</td>\n",
       "      <td>261379</td>\n",
       "      <td>Ec</td>\n",
       "      <td>Ec</td>\n",
       "      <td>0</td>\n",
       "    </tr>\n",
       "    <tr>\n",
       "      <th>2</th>\n",
       "      <td>5.880000e+17</td>\n",
       "      <td>original</td>\n",
       "      <td>130310</td>\n",
       "      <td>SBb4m</td>\n",
       "      <td>SB4</td>\n",
       "      <td>13</td>\n",
       "    </tr>\n",
       "    <tr>\n",
       "      <th>3</th>\n",
       "      <td>5.880000e+17</td>\n",
       "      <td>original</td>\n",
       "      <td>226825</td>\n",
       "      <td>Er</td>\n",
       "      <td>Er</td>\n",
       "      <td>2</td>\n",
       "    </tr>\n",
       "    <tr>\n",
       "      <th>4</th>\n",
       "      <td>5.880000e+17</td>\n",
       "      <td>original</td>\n",
       "      <td>66895</td>\n",
       "      <td>Er</td>\n",
       "      <td>Er</td>\n",
       "      <td>2</td>\n",
       "    </tr>\n",
       "  </tbody>\n",
       "</table>\n",
       "</div>"
      ],
      "text/plain": [
       "          objid    sample  asset_id gz2_class Target  Target_encoded\n",
       "0  5.880000e+17  original    228007      Sc+m     S5               8\n",
       "1  5.880000e+17     extra    261379        Ec     Ec               0\n",
       "2  5.880000e+17  original    130310     SBb4m    SB4              13\n",
       "3  5.880000e+17  original    226825        Er     Er               2\n",
       "4  5.880000e+17  original     66895        Er     Er               2"
      ]
     },
     "execution_count": 19,
     "metadata": {},
     "output_type": "execute_result"
    }
   ],
   "source": [
    "training_data.head()"
   ]
  },
  {
   "cell_type": "code",
   "execution_count": 20,
   "id": "31d8fff6",
   "metadata": {
    "ExecuteTime": {
     "end_time": "2023-01-12T11:20:50.001896Z",
     "start_time": "2023-01-12T11:20:49.993439Z"
    }
   },
   "outputs": [],
   "source": [
    "#Adding the jpg to the end of the id\n",
    "\n",
    "training_data['asset_id'] = training_data['asset_id'].astype(str)\n",
    "testing_data['asset_id'] = testing_data['asset_id'].astype(str)\n",
    "\n",
    "def append_ext(fn):\n",
    "    return fn+\".jpg\"\n",
    "\n",
    "training_data[\"asset_id\"]=training_data[\"asset_id\"].apply(append_ext)\n",
    "testing_data[\"asset_id\"]=testing_data[\"asset_id\"].apply(append_ext)"
   ]
  },
  {
   "cell_type": "code",
   "execution_count": 22,
   "id": "6ef6f0da",
   "metadata": {
    "ExecuteTime": {
     "end_time": "2023-01-12T11:40:15.986638Z",
     "start_time": "2023-01-12T11:40:15.868677Z"
    }
   },
   "outputs": [
    {
     "name": "stdout",
     "output_type": "stream",
     "text": [
      "Found 536 validated image filenames belonging to 16 classes.\n",
      "Found 178 validated image filenames belonging to 16 classes.\n",
      "Found 182 validated image filenames belonging to 16 classes.\n"
     ]
    },
    {
     "name": "stderr",
     "output_type": "stream",
     "text": [
      "C:\\Users\\HelenLuhaar\\anaconda3\\lib\\site-packages\\keras_preprocessing\\image\\dataframe_iterator.py:279: UserWarning: Found 92 invalid image filename(s) in x_col=\"asset_id\". These filename(s) will be ignored.\n",
      "  warnings.warn(\n",
      "C:\\Users\\HelenLuhaar\\anaconda3\\lib\\site-packages\\keras_preprocessing\\image\\dataframe_iterator.py:279: UserWarning: Found 92 invalid image filename(s) in x_col=\"asset_id\". These filename(s) will be ignored.\n",
      "  warnings.warn(\n",
      "C:\\Users\\HelenLuhaar\\anaconda3\\lib\\site-packages\\keras_preprocessing\\image\\dataframe_iterator.py:279: UserWarning: Found 20 invalid image filename(s) in x_col=\"asset_id\". These filename(s) will be ignored.\n",
      "  warnings.warn(\n"
     ]
    }
   ],
   "source": [
    "#Using image data generator module to match the labels in the dataframe with the images in another folder\n",
    "\n",
    "import keras_preprocessing\n",
    "\n",
    "from keras_preprocessing.image import ImageDataGenerator\n",
    "\n",
    "_datagen = ImageDataGenerator(\n",
    "            rescale=1./255.,\n",
    "            validation_split=0.25,\n",
    "            featurewise_center=False,\n",
    "            featurewise_std_normalization=False,\n",
    "            rotation_range=90,\n",
    "            width_shift_range=0.2,\n",
    "            height_shift_range=0.2,\n",
    "            horizontal_flip=True,\n",
    "            vertical_flip=True\n",
    "            )\n",
    "\n",
    "#Training generator\n",
    "\n",
    "train_generator=_datagen.flow_from_dataframe(\n",
    "    dataframe=training_data,\n",
    "    directory= pic_all,\n",
    "    has_ext=False,\n",
    "    x_col=\"asset_id\",\n",
    "    y_col=\"Target\",\n",
    "    subset=\"training\",\n",
    "    batch_size=10,\n",
    "    seed=42,\n",
    "    shuffle=True,\n",
    "    validate_filenames=True,\n",
    "    class_mode=\"categorical\",\n",
    "    target_size=(424,424))\n",
    "\n",
    "#Validation generator\n",
    "\n",
    "valid_generator = _datagen.flow_from_dataframe(\n",
    "    dataframe = training_data, \n",
    "    directory = pic_all,\n",
    "    has_ext = False,\n",
    "    x_col = \"asset_id\", \n",
    "    y_col = \"Target\",\n",
    "    seed=42,\n",
    "    shuffle=True,\n",
    "    class_mode = \"categorical\", \n",
    "    target_size = (424, 424), \n",
    "    batch_size = 10,\n",
    "    subset = 'validation')\n",
    "\n",
    "#Testing generator\n",
    "\n",
    "_test_datagen=ImageDataGenerator(rescale=1./255.)\n",
    "test_generator=_test_datagen.flow_from_dataframe(\n",
    "    dataframe=testing_data,\n",
    "    directory=pic_all,\n",
    "    x_col=\"asset_id\",\n",
    "    y_col=\"Target\",\n",
    "    has_ext=False,\n",
    "    batch_size=1,\n",
    "    seed=42,\n",
    "    shuffle=False,\n",
    "    validate_filenames=True,\n",
    "    class_mode=\"categorical\",\n",
    "    target_size=(424,424))"
   ]
  },
  {
   "cell_type": "code",
   "execution_count": 24,
   "id": "9b205f73",
   "metadata": {
    "ExecuteTime": {
     "end_time": "2023-01-12T12:04:05.326530Z",
     "start_time": "2023-01-12T12:04:05.307602Z"
    }
   },
   "outputs": [],
   "source": [
    "from tensorflow.keras import optimizers, regularizers\n",
    "from tensorflow.keras.optimizers import RMSprop"
   ]
  },
  {
   "cell_type": "code",
   "execution_count": 25,
   "id": "798ec7a8",
   "metadata": {
    "ExecuteTime": {
     "end_time": "2023-01-12T12:04:10.915169Z",
     "start_time": "2023-01-12T12:04:08.534034Z"
    }
   },
   "outputs": [],
   "source": [
    "#Training the model\n",
    "\n",
    "model = Sequential()\n",
    "model.add(Convolution2D(32, (3, 3), padding='same',\n",
    "                 input_shape=(424,424,3)))\n",
    "model.add(Activation('relu'))\n",
    "model.add(Convolution2D(32, (3, 3)))\n",
    "model.add(Activation('relu'))\n",
    "model.add(MaxPooling2D(pool_size=(2, 2)))\n",
    "#model.add(Dropout(0.25))\n",
    "model.add(Convolution2D(64, (3, 3), padding='same'))\n",
    "model.add(Activation('relu'))\n",
    "model.add(Convolution2D(64, (3, 3)))\n",
    "model.add(Activation('relu'))\n",
    "model.add(MaxPooling2D(pool_size=(2, 2)))\n",
    "#model.add(Dropout(0.25))\n",
    "model.add(Flatten())\n",
    "model.add(Dense(512))\n",
    "model.add(Activation('relu'))\n",
    "#model.add(Dropout(0.5))\n",
    "model.add(Dense(16, activation='softmax'))\n",
    "model.compile(optimizer='adam',loss=\"categorical_crossentropy\",metrics=[\"accuracy\"])"
   ]
  },
  {
   "cell_type": "code",
   "execution_count": 26,
   "id": "246bd0df",
   "metadata": {
    "ExecuteTime": {
     "end_time": "2023-01-12T12:04:13.155017Z",
     "start_time": "2023-01-12T12:04:13.138970Z"
    }
   },
   "outputs": [
    {
     "data": {
      "text/plain": [
       "14"
      ]
     },
     "execution_count": 26,
     "metadata": {},
     "output_type": "execute_result"
    }
   ],
   "source": [
    "len(model.layers)"
   ]
  },
  {
   "cell_type": "code",
   "execution_count": 28,
   "id": "409593cd",
   "metadata": {
    "ExecuteTime": {
     "end_time": "2023-01-12T12:04:40.664940Z",
     "start_time": "2023-01-12T12:04:40.642468Z"
    }
   },
   "outputs": [
    {
     "name": "stdout",
     "output_type": "stream",
     "text": [
      "Model: \"sequential\"\n",
      "_________________________________________________________________\n",
      " Layer (type)                Output Shape              Param #   \n",
      "=================================================================\n",
      " conv2d (Conv2D)             (None, 424, 424, 32)      896       \n",
      "                                                                 \n",
      " activation (Activation)     (None, 424, 424, 32)      0         \n",
      "                                                                 \n",
      " conv2d_1 (Conv2D)           (None, 422, 422, 32)      9248      \n",
      "                                                                 \n",
      " activation_1 (Activation)   (None, 422, 422, 32)      0         \n",
      "                                                                 \n",
      " max_pooling2d (MaxPooling2D  (None, 211, 211, 32)     0         \n",
      " )                                                               \n",
      "                                                                 \n",
      " conv2d_2 (Conv2D)           (None, 211, 211, 64)      18496     \n",
      "                                                                 \n",
      " activation_2 (Activation)   (None, 211, 211, 64)      0         \n",
      "                                                                 \n",
      " conv2d_3 (Conv2D)           (None, 209, 209, 64)      36928     \n",
      "                                                                 \n",
      " activation_3 (Activation)   (None, 209, 209, 64)      0         \n",
      "                                                                 \n",
      " max_pooling2d_1 (MaxPooling  (None, 104, 104, 64)     0         \n",
      " 2D)                                                             \n",
      "                                                                 \n",
      " flatten (Flatten)           (None, 692224)            0         \n",
      "                                                                 \n",
      " dense (Dense)               (None, 512)               354419200 \n",
      "                                                                 \n",
      " activation_4 (Activation)   (None, 512)               0         \n",
      "                                                                 \n",
      " dense_1 (Dense)             (None, 16)                8208      \n",
      "                                                                 \n",
      "=================================================================\n",
      "Total params: 354,492,976\n",
      "Trainable params: 354,492,976\n",
      "Non-trainable params: 0\n",
      "_________________________________________________________________\n"
     ]
    }
   ],
   "source": [
    "model.summary()"
   ]
  },
  {
   "cell_type": "code",
   "execution_count": 29,
   "id": "712e07ce",
   "metadata": {
    "ExecuteTime": {
     "end_time": "2023-01-12T13:03:48.767797Z",
     "start_time": "2023-01-12T12:09:27.772239Z"
    }
   },
   "outputs": [
    {
     "name": "stderr",
     "output_type": "stream",
     "text": [
      "C:\\Users\\HelenLuhaar\\AppData\\Local\\Temp\\ipykernel_5392\\993933976.py:5: UserWarning: `Model.fit_generator` is deprecated and will be removed in a future version. Please use `Model.fit`, which supports generators.\n",
      "  model.fit_generator(generator=train_generator,\n"
     ]
    },
    {
     "name": "stdout",
     "output_type": "stream",
     "text": [
      "Epoch 1/10\n",
      "53/53 [==============================] - 331s 6s/step - loss: 2.8577 - accuracy: 0.0399 - val_loss: 2.7731 - val_accuracy: 0.0647\n",
      "Epoch 2/10\n",
      "53/53 [==============================] - 331s 6s/step - loss: 2.7727 - accuracy: 0.0513 - val_loss: 2.7737 - val_accuracy: 0.0588\n",
      "Epoch 3/10\n",
      "53/53 [==============================] - 326s 6s/step - loss: 2.7724 - accuracy: 0.0532 - val_loss: 2.7742 - val_accuracy: 0.0412\n",
      "Epoch 4/10\n",
      "53/53 [==============================] - 325s 6s/step - loss: 2.7719 - accuracy: 0.0494 - val_loss: 2.7747 - val_accuracy: 0.0588\n",
      "Epoch 5/10\n",
      "53/53 [==============================] - 324s 6s/step - loss: 2.7718 - accuracy: 0.0570 - val_loss: 2.7747 - val_accuracy: 0.0706\n",
      "Epoch 6/10\n",
      "53/53 [==============================] - 323s 6s/step - loss: 2.7717 - accuracy: 0.0513 - val_loss: 2.7763 - val_accuracy: 0.0706\n",
      "Epoch 7/10\n",
      "53/53 [==============================] - 321s 6s/step - loss: 2.7713 - accuracy: 0.0608 - val_loss: 2.7761 - val_accuracy: 0.0706\n",
      "Epoch 8/10\n",
      "53/53 [==============================] - 326s 6s/step - loss: 2.7712 - accuracy: 0.0528 - val_loss: 2.7780 - val_accuracy: 0.0294\n",
      "Epoch 9/10\n",
      "53/53 [==============================] - 325s 6s/step - loss: 2.7710 - accuracy: 0.0570 - val_loss: 2.7785 - val_accuracy: 0.0353\n",
      "Epoch 10/10\n",
      "53/53 [==============================] - 329s 6s/step - loss: 2.7707 - accuracy: 0.0684 - val_loss: 2.7787 - val_accuracy: 0.0353\n"
     ]
    },
    {
     "data": {
      "text/plain": [
       "<keras.callbacks.History at 0x2925902c5e0>"
      ]
     },
     "execution_count": 29,
     "metadata": {},
     "output_type": "execute_result"
    }
   ],
   "source": [
    "#Step sizes, fitting and training the model\n",
    "\n",
    "STEP_SIZE_TRAIN=train_generator.n//train_generator.batch_size\n",
    "STEP_SIZE_VALID=valid_generator.n//valid_generator.batch_size\n",
    "model.fit_generator(generator=train_generator,\n",
    "                    steps_per_epoch=STEP_SIZE_TRAIN,\n",
    "                    validation_data=valid_generator,\n",
    "                    validation_steps=STEP_SIZE_VALID,\n",
    "                    epochs=10\n",
    ")"
   ]
  },
  {
   "cell_type": "code",
   "execution_count": 61,
   "id": "79d8b658",
   "metadata": {
    "ExecuteTime": {
     "end_time": "2023-01-11T17:07:01.237761Z",
     "start_time": "2023-01-11T16:12:07.340004Z"
    }
   },
   "outputs": [
    {
     "name": "stderr",
     "output_type": "stream",
     "text": [
      "C:\\Users\\HelenLuhaar\\AppData\\Local\\Temp\\ipykernel_15664\\12513741.py:6: UserWarning: `Model.fit_generator` is deprecated and will be removed in a future version. Please use `Model.fit`, which supports generators.\n",
      "  history_cnn = model.fit_generator(generator=train_generator, steps_per_epoch=STEP_SIZE_TRAIN, epochs=10)\n"
     ]
    },
    {
     "name": "stdout",
     "output_type": "stream",
     "text": [
      "Epoch 1/10\n",
      "10/10 [==============================] - 372s 37s/step - loss: 174.8988 - accuracy: 0.0592\n",
      "Epoch 2/10\n",
      "10/10 [==============================] - 347s 35s/step - loss: 2.7882 - accuracy: 0.0662\n",
      "Epoch 3/10\n",
      "10/10 [==============================] - 343s 34s/step - loss: 2.7727 - accuracy: 0.0761\n",
      "Epoch 4/10\n",
      "10/10 [==============================] - 310s 31s/step - loss: 2.7654 - accuracy: 0.1085\n",
      "Epoch 5/10\n",
      "10/10 [==============================] - 310s 31s/step - loss: 3.4161 - accuracy: 0.1507\n",
      "Epoch 6/10\n",
      "10/10 [==============================] - 309s 31s/step - loss: 2.7235 - accuracy: 0.2028\n",
      "Epoch 7/10\n",
      "10/10 [==============================] - 321s 32s/step - loss: 2.6683 - accuracy: 0.2521\n",
      "Epoch 8/10\n",
      "10/10 [==============================] - 324s 32s/step - loss: 2.6522 - accuracy: 0.3000\n",
      "Epoch 9/10\n",
      "10/10 [==============================] - 332s 33s/step - loss: 2.0470 - accuracy: 0.5127\n",
      "Epoch 10/10\n",
      "10/10 [==============================] - 323s 32s/step - loss: 3.0184 - accuracy: 0.5352\n"
     ]
    }
   ],
   "source": [
    "#Fitting the model\n",
    "\n",
    "\n",
    "#history_cnn = model.fit_generator(generator=train_generator, steps_per_epoch=STEP_SIZE_TRAIN, epochs=10)"
   ]
  },
  {
   "cell_type": "code",
   "execution_count": 31,
   "id": "982b2cca",
   "metadata": {
    "ExecuteTime": {
     "end_time": "2023-01-12T13:05:04.568211Z",
     "start_time": "2023-01-12T13:04:30.801048Z"
    }
   },
   "outputs": [
    {
     "name": "stderr",
     "output_type": "stream",
     "text": [
      "C:\\Users\\HelenLuhaar\\AppData\\Local\\Temp\\ipykernel_5392\\2987361598.py:3: UserWarning: `Model.predict_generator` is deprecated and will be removed in a future version. Please use `Model.predict`, which supports generators.\n",
      "  pred=model.predict_generator(test_generator,\n"
     ]
    },
    {
     "name": "stdout",
     "output_type": "stream",
     "text": [
      "182/182 [==============================] - 34s 184ms/step\n"
     ]
    }
   ],
   "source": [
    "STEP_SIZE_TEST=test_generator.n//test_generator.batch_size\n",
    "test_generator.reset()\n",
    "pred=model.predict_generator(test_generator,\n",
    "steps=STEP_SIZE_TEST,\n",
    "verbose=1)"
   ]
  },
  {
   "cell_type": "code",
   "execution_count": 32,
   "id": "bcf98804",
   "metadata": {
    "ExecuteTime": {
     "end_time": "2023-01-12T13:06:00.594805Z",
     "start_time": "2023-01-12T13:05:08.912840Z"
    }
   },
   "outputs": [
    {
     "name": "stderr",
     "output_type": "stream",
     "text": [
      "C:\\Users\\HelenLuhaar\\AppData\\Local\\Temp\\ipykernel_5392\\1099212622.py:1: UserWarning: `Model.evaluate_generator` is deprecated and will be removed in a future version. Please use `Model.evaluate`, which supports generators.\n",
      "  score = model.evaluate_generator(train_generator)\n"
     ]
    },
    {
     "name": "stdout",
     "output_type": "stream",
     "text": [
      "loss: 2.7697391510009766\n",
      "accuracy: 0.06902985274791718\n"
     ]
    }
   ],
   "source": [
    "score = model.evaluate_generator(train_generator)\n",
    "print('loss:', score[0])\n",
    "print('accuracy:', score[1])"
   ]
  },
  {
   "cell_type": "code",
   "execution_count": 33,
   "id": "97e44bb9",
   "metadata": {
    "ExecuteTime": {
     "end_time": "2023-01-12T13:06:11.239533Z",
     "start_time": "2023-01-12T13:06:11.228476Z"
    }
   },
   "outputs": [],
   "source": [
    "predicted_class_indices=np.argmax(pred,axis=1)"
   ]
  },
  {
   "cell_type": "code",
   "execution_count": 34,
   "id": "9f78a81c",
   "metadata": {
    "ExecuteTime": {
     "end_time": "2023-01-12T13:06:12.298057Z",
     "start_time": "2023-01-12T13:06:12.287134Z"
    }
   },
   "outputs": [
    {
     "data": {
      "text/plain": [
       "array([14, 14, 14, 14, 14, 14, 14, 14, 14, 14, 14, 14, 14, 14, 14, 14, 14,\n",
       "       14, 14, 14, 14, 14, 14, 14, 14, 14, 14, 14, 14, 14, 14, 14, 14, 14,\n",
       "       14, 14, 14, 14, 14, 14, 14, 14, 14, 14, 14, 14, 14, 14, 14, 14, 14,\n",
       "       14, 14, 14, 14, 14, 14, 14, 14, 14, 14, 14, 14, 14, 14, 14, 14, 14,\n",
       "       14, 14, 14, 14, 14, 14, 14, 14, 14, 14, 14, 14, 14, 14, 14, 14, 14,\n",
       "       14, 14, 14, 14, 14, 14, 14, 14, 14, 14, 14, 14, 14, 14, 14, 14, 14,\n",
       "       14, 14, 14, 14, 14, 14, 14, 14, 14, 14, 14, 14, 14, 14, 14, 14, 14,\n",
       "       14, 14, 14, 14, 14, 14, 14, 14, 14, 14, 14, 14, 14, 14, 14, 14, 14,\n",
       "       14, 14, 14, 14, 14, 14, 14, 14, 14, 14, 14, 14, 14, 14, 14, 14, 14,\n",
       "       14, 14, 14, 14, 14, 14, 14, 14, 14, 14, 14, 14, 14, 14, 14, 14, 14,\n",
       "       14, 14, 14, 14, 14, 14, 14, 14, 14, 14, 14, 14], dtype=int64)"
      ]
     },
     "execution_count": 34,
     "metadata": {},
     "output_type": "execute_result"
    }
   ],
   "source": [
    "predicted_class_indices"
   ]
  },
  {
   "cell_type": "code",
   "execution_count": 35,
   "id": "2e83577c",
   "metadata": {
    "ExecuteTime": {
     "end_time": "2023-01-12T13:06:14.785864Z",
     "start_time": "2023-01-12T13:06:14.780122Z"
    }
   },
   "outputs": [],
   "source": [
    "labels = (train_generator.class_indices)\n",
    "labels = dict((v,k) for k,v in labels.items())\n",
    "predictions = [labels[k] for k in predicted_class_indices]"
   ]
  },
  {
   "cell_type": "code",
   "execution_count": 36,
   "id": "4cbab45b",
   "metadata": {
    "ExecuteTime": {
     "end_time": "2023-01-12T13:06:15.658398Z",
     "start_time": "2023-01-12T13:06:15.643423Z"
    }
   },
   "outputs": [],
   "source": [
    "true_values = [labels[k] for k in test_generator.classes]"
   ]
  },
  {
   "cell_type": "code",
   "execution_count": 37,
   "id": "68c92c93",
   "metadata": {
    "ExecuteTime": {
     "end_time": "2023-01-12T13:06:19.872620Z",
     "start_time": "2023-01-12T13:06:19.831259Z"
    }
   },
   "outputs": [
    {
     "name": "stdout",
     "output_type": "stream",
     "text": [
      "Confusion matrix:\n",
      "[[ 0  0  0  0  0  0  0  0  0  0  0  0  0  0  6  0]\n",
      " [ 0  0  0  0  0  0  0  0  0  0  0  0  0  0  8  0]\n",
      " [ 0  0  0  0  0  0  0  0  0  0  0  0  0  0  7  0]\n",
      " [ 0  0  0  0  0  0  0  0  0  0  0  0  0  0 11  0]\n",
      " [ 0  0  0  0  0  0  0  0  0  0  0  0  0  0 12  0]\n",
      " [ 0  0  0  0  0  0  0  0  0  0  0  0  0  0 16  0]\n",
      " [ 0  0  0  0  0  0  0  0  0  0  0  0  0  0 10  0]\n",
      " [ 0  0  0  0  0  0  0  0  0  0  0  0  0  0 14  0]\n",
      " [ 0  0  0  0  0  0  0  0  0  0  0  0  0  0 12  0]\n",
      " [ 0  0  0  0  0  0  0  0  0  0  0  0  0  0 10  0]\n",
      " [ 0  0  0  0  0  0  0  0  0  0  0  0  0  0 13  0]\n",
      " [ 0  0  0  0  0  0  0  0  0  0  0  0  0  0 10  0]\n",
      " [ 0  0  0  0  0  0  0  0  0  0  0  0  0  0 19  0]\n",
      " [ 0  0  0  0  0  0  0  0  0  0  0  0  0  0  9  0]\n",
      " [ 0  0  0  0  0  0  0  0  0  0  0  0  0  0 12  0]\n",
      " [ 0  0  0  0  0  0  0  0  0  0  0  0  0  0 13  0]]\n",
      "\n",
      "Quadratic weighted Cohen's kappa = 0.0000\n",
      "\n",
      "Classification report:\n",
      "              precision    recall  f1-score   support\n",
      "\n",
      "          Ec       0.00      0.00      0.00         6\n",
      "          Ei       0.00      0.00      0.00         8\n",
      "          Er       0.00      0.00      0.00         7\n",
      "           S       0.00      0.00      0.00        11\n",
      "          S1       0.00      0.00      0.00        12\n",
      "          S2       0.00      0.00      0.00        16\n",
      "          S3       0.00      0.00      0.00        10\n",
      "          S4       0.00      0.00      0.00        14\n",
      "          S5       0.00      0.00      0.00        12\n",
      "          SB       0.00      0.00      0.00        10\n",
      "         SB1       0.00      0.00      0.00        13\n",
      "         SB2       0.00      0.00      0.00        10\n",
      "         SB3       0.00      0.00      0.00        19\n",
      "         SB4       0.00      0.00      0.00         9\n",
      "         SB5       0.07      1.00      0.12        12\n",
      "          Se       0.00      0.00      0.00        13\n",
      "\n",
      "    accuracy                           0.07       182\n",
      "   macro avg       0.00      0.06      0.01       182\n",
      "weighted avg       0.00      0.07      0.01       182\n",
      "\n",
      "\n"
     ]
    },
    {
     "name": "stderr",
     "output_type": "stream",
     "text": [
      "C:\\Users\\HelenLuhaar\\anaconda3\\lib\\site-packages\\sklearn\\metrics\\_classification.py:1334: UndefinedMetricWarning: Precision and F-score are ill-defined and being set to 0.0 in labels with no predicted samples. Use `zero_division` parameter to control this behavior.\n",
      "  _warn_prf(average, modifier, msg_start, len(result))\n",
      "C:\\Users\\HelenLuhaar\\anaconda3\\lib\\site-packages\\sklearn\\metrics\\_classification.py:1334: UndefinedMetricWarning: Precision and F-score are ill-defined and being set to 0.0 in labels with no predicted samples. Use `zero_division` parameter to control this behavior.\n",
      "  _warn_prf(average, modifier, msg_start, len(result))\n",
      "C:\\Users\\HelenLuhaar\\anaconda3\\lib\\site-packages\\sklearn\\metrics\\_classification.py:1334: UndefinedMetricWarning: Precision and F-score are ill-defined and being set to 0.0 in labels with no predicted samples. Use `zero_division` parameter to control this behavior.\n",
      "  _warn_prf(average, modifier, msg_start, len(result))\n"
     ]
    }
   ],
   "source": [
    "# Calculate and print the metrics results\n",
    "from sklearn.metrics import confusion_matrix, cohen_kappa_score, classification_report\n",
    "\n",
    "cm = confusion_matrix(true_values, predictions)\n",
    "print('Confusion matrix:')\n",
    "print(cm)\n",
    "print('')\n",
    "\n",
    "k = cohen_kappa_score(true_values, predictions, weights = 'quadratic')\n",
    "print(\"Quadratic weighted Cohen's kappa = {:.4f}\".format(k))\n",
    "print('')\n",
    "\n",
    "cr = classification_report(true_values, predictions)\n",
    "print('Classification report:')\n",
    "print(cr)\n",
    "print('')"
   ]
  },
  {
   "cell_type": "code",
   "execution_count": null,
   "id": "789ec0e7",
   "metadata": {},
   "outputs": [],
   "source": []
  }
 ],
 "metadata": {
  "kernelspec": {
   "display_name": "Python 3 (ipykernel)",
   "language": "python",
   "name": "python3"
  },
  "language_info": {
   "codemirror_mode": {
    "name": "ipython",
    "version": 3
   },
   "file_extension": ".py",
   "mimetype": "text/x-python",
   "name": "python",
   "nbconvert_exporter": "python",
   "pygments_lexer": "ipython3",
   "version": "3.9.7"
  },
  "varInspector": {
   "cols": {
    "lenName": 16,
    "lenType": 16,
    "lenVar": 40
   },
   "kernels_config": {
    "python": {
     "delete_cmd_postfix": "",
     "delete_cmd_prefix": "del ",
     "library": "var_list.py",
     "varRefreshCmd": "print(var_dic_list())"
    },
    "r": {
     "delete_cmd_postfix": ") ",
     "delete_cmd_prefix": "rm(",
     "library": "var_list.r",
     "varRefreshCmd": "cat(var_dic_list()) "
    }
   },
   "types_to_exclude": [
    "module",
    "function",
    "builtin_function_or_method",
    "instance",
    "_Feature"
   ],
   "window_display": false
  }
 },
 "nbformat": 4,
 "nbformat_minor": 5
}
