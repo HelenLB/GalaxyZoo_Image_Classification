{
 "cells": [
  {
   "cell_type": "code",
   "execution_count": 79,
   "id": "e075fc91",
   "metadata": {
    "ExecuteTime": {
     "end_time": "2023-01-10T16:15:04.376377Z",
     "start_time": "2023-01-10T16:15:04.316121Z"
    }
   },
   "outputs": [],
   "source": [
    "#Importing necessary libraries\n",
    "\n",
    "import random as rn\n",
    "import os\n",
    "import numpy as np\n",
    "import pandas as pd\n",
    "import cv2 as cv\n",
    "from sklearn.model_selection import train_test_split\n",
    "from sklearn.preprocessing import LabelEncoder\n",
    "from keras.models import Sequential, Model\n",
    "from keras.layers.core import Flatten, Dense, Dropout, Lambda, Reshape\n",
    "from keras.layers import Input\n",
    "from keras.layers.convolutional import Convolution2D, MaxPooling2D, ZeroPadding2D\n",
    "from keras.layers import  Activation\n",
    "from keras.optimizers import SGD, RMSprop, Adam\n",
    "from sklearn.metrics import accuracy_score,confusion_matrix,classification_report\n",
    "import seaborn as sns\n",
    "import matplotlib.pyplot as plt\n",
    "import tensorflow as tf\n",
    "%matplotlib inline"
   ]
  },
  {
   "cell_type": "code",
   "execution_count": 2,
   "id": "20dbd679",
   "metadata": {
    "ExecuteTime": {
     "end_time": "2023-01-10T11:35:20.162717Z",
     "start_time": "2023-01-10T11:35:19.973526Z"
    }
   },
   "outputs": [],
   "source": [
    "#Defining the path to the data directories\n",
    "#One path will be for the csv which contains information about the classification and the other is folder with the images\n",
    "\n",
    "df = pd.read_csv('Galaxy_Classes.csv')\n",
    "pic_all = \"C:/python_lessons/January_Project/images/\"\n",
    "categories = ['Irregular','Spiral','Elliptical'] #Categories currently working with"
   ]
  },
  {
   "cell_type": "code",
   "execution_count": 3,
   "id": "7728b25f",
   "metadata": {
    "ExecuteTime": {
     "end_time": "2023-01-10T11:35:20.193241Z",
     "start_time": "2023-01-10T11:35:20.164727Z"
    }
   },
   "outputs": [
    {
     "data": {
      "text/html": [
       "<div>\n",
       "<style scoped>\n",
       "    .dataframe tbody tr th:only-of-type {\n",
       "        vertical-align: middle;\n",
       "    }\n",
       "\n",
       "    .dataframe tbody tr th {\n",
       "        vertical-align: top;\n",
       "    }\n",
       "\n",
       "    .dataframe thead th {\n",
       "        text-align: right;\n",
       "    }\n",
       "</style>\n",
       "<table border=\"1\" class=\"dataframe\">\n",
       "  <thead>\n",
       "    <tr style=\"text-align: right;\">\n",
       "      <th></th>\n",
       "      <th>objid</th>\n",
       "      <th>sample</th>\n",
       "      <th>asset_id</th>\n",
       "      <th>gz2_class</th>\n",
       "      <th>category</th>\n",
       "    </tr>\n",
       "  </thead>\n",
       "  <tbody>\n",
       "    <tr>\n",
       "      <th>0</th>\n",
       "      <td>5.880000e+17</td>\n",
       "      <td>original</td>\n",
       "      <td>3</td>\n",
       "      <td>Sc?l</td>\n",
       "      <td>Spiral</td>\n",
       "    </tr>\n",
       "    <tr>\n",
       "      <th>1</th>\n",
       "      <td>5.880000e+17</td>\n",
       "      <td>original</td>\n",
       "      <td>4</td>\n",
       "      <td>Sc?l</td>\n",
       "      <td>Spiral</td>\n",
       "    </tr>\n",
       "    <tr>\n",
       "      <th>2</th>\n",
       "      <td>5.880000e+17</td>\n",
       "      <td>original</td>\n",
       "      <td>5</td>\n",
       "      <td>Er</td>\n",
       "      <td>Elliptical</td>\n",
       "    </tr>\n",
       "    <tr>\n",
       "      <th>3</th>\n",
       "      <td>5.880000e+17</td>\n",
       "      <td>original</td>\n",
       "      <td>6</td>\n",
       "      <td>Sc1t</td>\n",
       "      <td>Spiral</td>\n",
       "    </tr>\n",
       "    <tr>\n",
       "      <th>4</th>\n",
       "      <td>5.880000e+17</td>\n",
       "      <td>original</td>\n",
       "      <td>7</td>\n",
       "      <td>Sc1t</td>\n",
       "      <td>Spiral</td>\n",
       "    </tr>\n",
       "    <tr>\n",
       "      <th>5</th>\n",
       "      <td>5.880000e+17</td>\n",
       "      <td>original</td>\n",
       "      <td>8</td>\n",
       "      <td>Sc1t</td>\n",
       "      <td>Spiral</td>\n",
       "    </tr>\n",
       "    <tr>\n",
       "      <th>6</th>\n",
       "      <td>5.880000e+17</td>\n",
       "      <td>original</td>\n",
       "      <td>9</td>\n",
       "      <td>Sc1t</td>\n",
       "      <td>Spiral</td>\n",
       "    </tr>\n",
       "    <tr>\n",
       "      <th>7</th>\n",
       "      <td>5.880000e+17</td>\n",
       "      <td>original</td>\n",
       "      <td>11</td>\n",
       "      <td>Sb</td>\n",
       "      <td>Spiral</td>\n",
       "    </tr>\n",
       "    <tr>\n",
       "      <th>8</th>\n",
       "      <td>5.880000e+17</td>\n",
       "      <td>original</td>\n",
       "      <td>12</td>\n",
       "      <td>Sb</td>\n",
       "      <td>Spiral</td>\n",
       "    </tr>\n",
       "    <tr>\n",
       "      <th>9</th>\n",
       "      <td>5.880000e+17</td>\n",
       "      <td>original</td>\n",
       "      <td>13</td>\n",
       "      <td>Ec</td>\n",
       "      <td>Elliptical</td>\n",
       "    </tr>\n",
       "  </tbody>\n",
       "</table>\n",
       "</div>"
      ],
      "text/plain": [
       "          objid    sample  asset_id gz2_class    category\n",
       "0  5.880000e+17  original         3      Sc?l      Spiral\n",
       "1  5.880000e+17  original         4      Sc?l      Spiral\n",
       "2  5.880000e+17  original         5        Er  Elliptical\n",
       "3  5.880000e+17  original         6      Sc1t      Spiral\n",
       "4  5.880000e+17  original         7      Sc1t      Spiral\n",
       "5  5.880000e+17  original         8      Sc1t      Spiral\n",
       "6  5.880000e+17  original         9      Sc1t      Spiral\n",
       "7  5.880000e+17  original        11        Sb      Spiral\n",
       "8  5.880000e+17  original        12        Sb      Spiral\n",
       "9  5.880000e+17  original        13        Ec  Elliptical"
      ]
     },
     "execution_count": 3,
     "metadata": {},
     "output_type": "execute_result"
    }
   ],
   "source": [
    "df.head(10)"
   ]
  },
  {
   "cell_type": "code",
   "execution_count": 4,
   "id": "20f4d3f2",
   "metadata": {
    "ExecuteTime": {
     "end_time": "2023-01-10T11:35:20.510268Z",
     "start_time": "2023-01-10T11:35:20.196165Z"
    }
   },
   "outputs": [
    {
     "name": "stderr",
     "output_type": "stream",
     "text": [
      "C:\\Users\\HelenLuhaar\\anaconda3\\lib\\site-packages\\seaborn\\_decorators.py:36: FutureWarning: Pass the following variable as a keyword arg: x. From version 0.12, the only valid positional argument will be `data`, and passing other arguments without an explicit keyword will result in an error or misinterpretation.\n",
      "  warnings.warn(\n"
     ]
    },
    {
     "data": {
      "image/png": "[encoded data removed]",
      "text/plain": [
       "<Figure size 432x288 with 1 Axes>"
      ]
     },
     "metadata": {
      "needs_background": "light"
     },
     "output_type": "display_data"
    }
   ],
   "source": [
    "sns.countplot(df['category']);"
   ]
  },
  {
   "cell_type": "markdown",
   "id": "2495c1fb",
   "metadata": {},
   "source": [
    "The least amount of records are 40'000 rows of irregulars which is more than needed for ML (around 300 images). Therefore, undersampling the data to the irregular level and then shuffling the data around as well."
   ]
  },
  {
   "cell_type": "code",
   "execution_count": 5,
   "id": "641c8354",
   "metadata": {
    "ExecuteTime": {
     "end_time": "2023-01-10T11:35:20.540693Z",
     "start_time": "2023-01-10T11:35:20.512270Z"
    }
   },
   "outputs": [],
   "source": [
    "#Now selecting only a sample of 600 records from the dataframe and creating a new one which will be used in extracting images\n",
    "\n",
    "df_sample = df.sample(n=600, replace=False, random_state=1)"
   ]
  },
  {
   "cell_type": "code",
   "execution_count": 6,
   "id": "205ffaed",
   "metadata": {
    "ExecuteTime": {
     "end_time": "2023-01-10T11:35:20.556278Z",
     "start_time": "2023-01-10T11:35:20.541723Z"
    }
   },
   "outputs": [
    {
     "data": {
      "text/html": [
       "<div>\n",
       "<style scoped>\n",
       "    .dataframe tbody tr th:only-of-type {\n",
       "        vertical-align: middle;\n",
       "    }\n",
       "\n",
       "    .dataframe tbody tr th {\n",
       "        vertical-align: top;\n",
       "    }\n",
       "\n",
       "    .dataframe thead th {\n",
       "        text-align: right;\n",
       "    }\n",
       "</style>\n",
       "<table border=\"1\" class=\"dataframe\">\n",
       "  <thead>\n",
       "    <tr style=\"text-align: right;\">\n",
       "      <th></th>\n",
       "      <th>objid</th>\n",
       "      <th>sample</th>\n",
       "      <th>asset_id</th>\n",
       "      <th>gz2_class</th>\n",
       "      <th>category</th>\n",
       "    </tr>\n",
       "  </thead>\n",
       "  <tbody>\n",
       "    <tr>\n",
       "      <th>201076</th>\n",
       "      <td>5.880000e+17</td>\n",
       "      <td>original</td>\n",
       "      <td>219288</td>\n",
       "      <td>Ei</td>\n",
       "      <td>Elliptical</td>\n",
       "    </tr>\n",
       "    <tr>\n",
       "      <th>244334</th>\n",
       "      <td>5.880000e+17</td>\n",
       "      <td>extra</td>\n",
       "      <td>265845</td>\n",
       "      <td>Er</td>\n",
       "      <td>Elliptical</td>\n",
       "    </tr>\n",
       "    <tr>\n",
       "      <th>196847</th>\n",
       "      <td>5.880000e+17</td>\n",
       "      <td>original</td>\n",
       "      <td>214930</td>\n",
       "      <td>Sc2t</td>\n",
       "      <td>Spiral</td>\n",
       "    </tr>\n",
       "    <tr>\n",
       "      <th>168257</th>\n",
       "      <td>5.880000e+17</td>\n",
       "      <td>original</td>\n",
       "      <td>181898</td>\n",
       "      <td>SBb2m</td>\n",
       "      <td>Irregular</td>\n",
       "    </tr>\n",
       "    <tr>\n",
       "      <th>236083</th>\n",
       "      <td>5.880000e+17</td>\n",
       "      <td>extra</td>\n",
       "      <td>256678</td>\n",
       "      <td>Sc?t</td>\n",
       "      <td>Spiral</td>\n",
       "    </tr>\n",
       "    <tr>\n",
       "      <th>...</th>\n",
       "      <td>...</td>\n",
       "      <td>...</td>\n",
       "      <td>...</td>\n",
       "      <td>...</td>\n",
       "      <td>...</td>\n",
       "    </tr>\n",
       "    <tr>\n",
       "      <th>98725</th>\n",
       "      <td>5.880000e+17</td>\n",
       "      <td>original</td>\n",
       "      <td>107958</td>\n",
       "      <td>SBb?m</td>\n",
       "      <td>Irregular</td>\n",
       "    </tr>\n",
       "    <tr>\n",
       "      <th>38533</th>\n",
       "      <td>5.880000e+17</td>\n",
       "      <td>original</td>\n",
       "      <td>44096</td>\n",
       "      <td>SBb2t</td>\n",
       "      <td>Spiral</td>\n",
       "    </tr>\n",
       "    <tr>\n",
       "      <th>27290</th>\n",
       "      <td>5.880000e+17</td>\n",
       "      <td>original</td>\n",
       "      <td>30986</td>\n",
       "      <td>Sc</td>\n",
       "      <td>Spiral</td>\n",
       "    </tr>\n",
       "    <tr>\n",
       "      <th>201558</th>\n",
       "      <td>5.880000e+17</td>\n",
       "      <td>original</td>\n",
       "      <td>219791</td>\n",
       "      <td>SBc</td>\n",
       "      <td>Spiral</td>\n",
       "    </tr>\n",
       "    <tr>\n",
       "      <th>148073</th>\n",
       "      <td>5.880000e+17</td>\n",
       "      <td>original</td>\n",
       "      <td>160923</td>\n",
       "      <td>SBb?t</td>\n",
       "      <td>Spiral</td>\n",
       "    </tr>\n",
       "  </tbody>\n",
       "</table>\n",
       "<p>600 rows × 5 columns</p>\n",
       "</div>"
      ],
      "text/plain": [
       "               objid    sample  asset_id gz2_class    category\n",
       "201076  5.880000e+17  original    219288        Ei  Elliptical\n",
       "244334  5.880000e+17     extra    265845        Er  Elliptical\n",
       "196847  5.880000e+17  original    214930      Sc2t      Spiral\n",
       "168257  5.880000e+17  original    181898     SBb2m   Irregular\n",
       "236083  5.880000e+17     extra    256678      Sc?t      Spiral\n",
       "...              ...       ...       ...       ...         ...\n",
       "98725   5.880000e+17  original    107958     SBb?m   Irregular\n",
       "38533   5.880000e+17  original     44096     SBb2t      Spiral\n",
       "27290   5.880000e+17  original     30986        Sc      Spiral\n",
       "201558  5.880000e+17  original    219791       SBc      Spiral\n",
       "148073  5.880000e+17  original    160923     SBb?t      Spiral\n",
       "\n",
       "[600 rows x 5 columns]"
      ]
     },
     "execution_count": 6,
     "metadata": {},
     "output_type": "execute_result"
    }
   ],
   "source": [
    "df_sample"
   ]
  },
  {
   "cell_type": "code",
   "execution_count": 7,
   "id": "51b16720",
   "metadata": {
    "ExecuteTime": {
     "end_time": "2023-01-10T11:35:20.825365Z",
     "start_time": "2023-01-10T11:35:20.557267Z"
    }
   },
   "outputs": [
    {
     "name": "stderr",
     "output_type": "stream",
     "text": [
      "C:\\Users\\HelenLuhaar\\anaconda3\\lib\\site-packages\\seaborn\\_decorators.py:36: FutureWarning: Pass the following variable as a keyword arg: x. From version 0.12, the only valid positional argument will be `data`, and passing other arguments without an explicit keyword will result in an error or misinterpretation.\n",
      "  warnings.warn(\n"
     ]
    },
    {
     "data": {
      "image/png": "[encoded data removed]",
      "text/plain": [
       "<Figure size 432x288 with 1 Axes>"
      ]
     },
     "metadata": {
      "needs_background": "light"
     },
     "output_type": "display_data"
    }
   ],
   "source": [
    "sns.countplot(df_sample['category']);"
   ]
  },
  {
   "cell_type": "code",
   "execution_count": 8,
   "id": "fdf79ade",
   "metadata": {
    "ExecuteTime": {
     "end_time": "2023-01-10T11:35:20.841321Z",
     "start_time": "2023-01-10T11:35:20.826270Z"
    }
   },
   "outputs": [],
   "source": [
    "#Making a copy of the column being encoded\n",
    "\n",
    "df_sample['category_encoded'] = df_sample['category']"
   ]
  },
  {
   "cell_type": "code",
   "execution_count": 9,
   "id": "34a68d7f",
   "metadata": {
    "ExecuteTime": {
     "end_time": "2023-01-10T11:35:20.856947Z",
     "start_time": "2023-01-10T11:35:20.843243Z"
    }
   },
   "outputs": [
    {
     "data": {
      "text/html": [
       "<div>\n",
       "<style scoped>\n",
       "    .dataframe tbody tr th:only-of-type {\n",
       "        vertical-align: middle;\n",
       "    }\n",
       "\n",
       "    .dataframe tbody tr th {\n",
       "        vertical-align: top;\n",
       "    }\n",
       "\n",
       "    .dataframe thead th {\n",
       "        text-align: right;\n",
       "    }\n",
       "</style>\n",
       "<table border=\"1\" class=\"dataframe\">\n",
       "  <thead>\n",
       "    <tr style=\"text-align: right;\">\n",
       "      <th></th>\n",
       "      <th>objid</th>\n",
       "      <th>sample</th>\n",
       "      <th>asset_id</th>\n",
       "      <th>gz2_class</th>\n",
       "      <th>category</th>\n",
       "      <th>category_encoded</th>\n",
       "    </tr>\n",
       "  </thead>\n",
       "  <tbody>\n",
       "    <tr>\n",
       "      <th>201076</th>\n",
       "      <td>5.880000e+17</td>\n",
       "      <td>original</td>\n",
       "      <td>219288</td>\n",
       "      <td>Ei</td>\n",
       "      <td>Elliptical</td>\n",
       "      <td>Elliptical</td>\n",
       "    </tr>\n",
       "    <tr>\n",
       "      <th>244334</th>\n",
       "      <td>5.880000e+17</td>\n",
       "      <td>extra</td>\n",
       "      <td>265845</td>\n",
       "      <td>Er</td>\n",
       "      <td>Elliptical</td>\n",
       "      <td>Elliptical</td>\n",
       "    </tr>\n",
       "    <tr>\n",
       "      <th>196847</th>\n",
       "      <td>5.880000e+17</td>\n",
       "      <td>original</td>\n",
       "      <td>214930</td>\n",
       "      <td>Sc2t</td>\n",
       "      <td>Spiral</td>\n",
       "      <td>Spiral</td>\n",
       "    </tr>\n",
       "    <tr>\n",
       "      <th>168257</th>\n",
       "      <td>5.880000e+17</td>\n",
       "      <td>original</td>\n",
       "      <td>181898</td>\n",
       "      <td>SBb2m</td>\n",
       "      <td>Irregular</td>\n",
       "      <td>Irregular</td>\n",
       "    </tr>\n",
       "    <tr>\n",
       "      <th>236083</th>\n",
       "      <td>5.880000e+17</td>\n",
       "      <td>extra</td>\n",
       "      <td>256678</td>\n",
       "      <td>Sc?t</td>\n",
       "      <td>Spiral</td>\n",
       "      <td>Spiral</td>\n",
       "    </tr>\n",
       "  </tbody>\n",
       "</table>\n",
       "</div>"
      ],
      "text/plain": [
       "               objid    sample  asset_id gz2_class    category  \\\n",
       "201076  5.880000e+17  original    219288        Ei  Elliptical   \n",
       "244334  5.880000e+17     extra    265845        Er  Elliptical   \n",
       "196847  5.880000e+17  original    214930      Sc2t      Spiral   \n",
       "168257  5.880000e+17  original    181898     SBb2m   Irregular   \n",
       "236083  5.880000e+17     extra    256678      Sc?t      Spiral   \n",
       "\n",
       "       category_encoded  \n",
       "201076       Elliptical  \n",
       "244334       Elliptical  \n",
       "196847           Spiral  \n",
       "168257        Irregular  \n",
       "236083           Spiral  "
      ]
     },
     "execution_count": 9,
     "metadata": {},
     "output_type": "execute_result"
    }
   ],
   "source": [
    "df_sample.head()"
   ]
  },
  {
   "cell_type": "code",
   "execution_count": 10,
   "id": "8287e771",
   "metadata": {
    "ExecuteTime": {
     "end_time": "2023-01-10T11:35:20.872949Z",
     "start_time": "2023-01-10T11:35:20.861641Z"
    }
   },
   "outputs": [],
   "source": [
    "#Label encoding the category (target) feature in the data frame\n",
    "\n",
    "le = LabelEncoder()\n",
    "df_sample['category_encoded'] = le.fit_transform(df_sample['category_encoded'])"
   ]
  },
  {
   "cell_type": "code",
   "execution_count": 11,
   "id": "22b5ab76",
   "metadata": {
    "ExecuteTime": {
     "end_time": "2023-01-10T11:35:20.888236Z",
     "start_time": "2023-01-10T11:35:20.873983Z"
    }
   },
   "outputs": [
    {
     "data": {
      "text/html": [
       "<div>\n",
       "<style scoped>\n",
       "    .dataframe tbody tr th:only-of-type {\n",
       "        vertical-align: middle;\n",
       "    }\n",
       "\n",
       "    .dataframe tbody tr th {\n",
       "        vertical-align: top;\n",
       "    }\n",
       "\n",
       "    .dataframe thead th {\n",
       "        text-align: right;\n",
       "    }\n",
       "</style>\n",
       "<table border=\"1\" class=\"dataframe\">\n",
       "  <thead>\n",
       "    <tr style=\"text-align: right;\">\n",
       "      <th></th>\n",
       "      <th>objid</th>\n",
       "      <th>sample</th>\n",
       "      <th>asset_id</th>\n",
       "      <th>gz2_class</th>\n",
       "      <th>category</th>\n",
       "      <th>category_encoded</th>\n",
       "    </tr>\n",
       "  </thead>\n",
       "  <tbody>\n",
       "    <tr>\n",
       "      <th>201076</th>\n",
       "      <td>5.880000e+17</td>\n",
       "      <td>original</td>\n",
       "      <td>219288</td>\n",
       "      <td>Ei</td>\n",
       "      <td>Elliptical</td>\n",
       "      <td>0</td>\n",
       "    </tr>\n",
       "    <tr>\n",
       "      <th>244334</th>\n",
       "      <td>5.880000e+17</td>\n",
       "      <td>extra</td>\n",
       "      <td>265845</td>\n",
       "      <td>Er</td>\n",
       "      <td>Elliptical</td>\n",
       "      <td>0</td>\n",
       "    </tr>\n",
       "    <tr>\n",
       "      <th>196847</th>\n",
       "      <td>5.880000e+17</td>\n",
       "      <td>original</td>\n",
       "      <td>214930</td>\n",
       "      <td>Sc2t</td>\n",
       "      <td>Spiral</td>\n",
       "      <td>2</td>\n",
       "    </tr>\n",
       "    <tr>\n",
       "      <th>168257</th>\n",
       "      <td>5.880000e+17</td>\n",
       "      <td>original</td>\n",
       "      <td>181898</td>\n",
       "      <td>SBb2m</td>\n",
       "      <td>Irregular</td>\n",
       "      <td>1</td>\n",
       "    </tr>\n",
       "    <tr>\n",
       "      <th>236083</th>\n",
       "      <td>5.880000e+17</td>\n",
       "      <td>extra</td>\n",
       "      <td>256678</td>\n",
       "      <td>Sc?t</td>\n",
       "      <td>Spiral</td>\n",
       "      <td>2</td>\n",
       "    </tr>\n",
       "    <tr>\n",
       "      <th>...</th>\n",
       "      <td>...</td>\n",
       "      <td>...</td>\n",
       "      <td>...</td>\n",
       "      <td>...</td>\n",
       "      <td>...</td>\n",
       "      <td>...</td>\n",
       "    </tr>\n",
       "    <tr>\n",
       "      <th>98725</th>\n",
       "      <td>5.880000e+17</td>\n",
       "      <td>original</td>\n",
       "      <td>107958</td>\n",
       "      <td>SBb?m</td>\n",
       "      <td>Irregular</td>\n",
       "      <td>1</td>\n",
       "    </tr>\n",
       "    <tr>\n",
       "      <th>38533</th>\n",
       "      <td>5.880000e+17</td>\n",
       "      <td>original</td>\n",
       "      <td>44096</td>\n",
       "      <td>SBb2t</td>\n",
       "      <td>Spiral</td>\n",
       "      <td>2</td>\n",
       "    </tr>\n",
       "    <tr>\n",
       "      <th>27290</th>\n",
       "      <td>5.880000e+17</td>\n",
       "      <td>original</td>\n",
       "      <td>30986</td>\n",
       "      <td>Sc</td>\n",
       "      <td>Spiral</td>\n",
       "      <td>2</td>\n",
       "    </tr>\n",
       "    <tr>\n",
       "      <th>201558</th>\n",
       "      <td>5.880000e+17</td>\n",
       "      <td>original</td>\n",
       "      <td>219791</td>\n",
       "      <td>SBc</td>\n",
       "      <td>Spiral</td>\n",
       "      <td>2</td>\n",
       "    </tr>\n",
       "    <tr>\n",
       "      <th>148073</th>\n",
       "      <td>5.880000e+17</td>\n",
       "      <td>original</td>\n",
       "      <td>160923</td>\n",
       "      <td>SBb?t</td>\n",
       "      <td>Spiral</td>\n",
       "      <td>2</td>\n",
       "    </tr>\n",
       "  </tbody>\n",
       "</table>\n",
       "<p>600 rows × 6 columns</p>\n",
       "</div>"
      ],
      "text/plain": [
       "               objid    sample  asset_id gz2_class    category  \\\n",
       "201076  5.880000e+17  original    219288        Ei  Elliptical   \n",
       "244334  5.880000e+17     extra    265845        Er  Elliptical   \n",
       "196847  5.880000e+17  original    214930      Sc2t      Spiral   \n",
       "168257  5.880000e+17  original    181898     SBb2m   Irregular   \n",
       "236083  5.880000e+17     extra    256678      Sc?t      Spiral   \n",
       "...              ...       ...       ...       ...         ...   \n",
       "98725   5.880000e+17  original    107958     SBb?m   Irregular   \n",
       "38533   5.880000e+17  original     44096     SBb2t      Spiral   \n",
       "27290   5.880000e+17  original     30986        Sc      Spiral   \n",
       "201558  5.880000e+17  original    219791       SBc      Spiral   \n",
       "148073  5.880000e+17  original    160923     SBb?t      Spiral   \n",
       "\n",
       "        category_encoded  \n",
       "201076                 0  \n",
       "244334                 0  \n",
       "196847                 2  \n",
       "168257                 1  \n",
       "236083                 2  \n",
       "...                  ...  \n",
       "98725                  1  \n",
       "38533                  2  \n",
       "27290                  2  \n",
       "201558                 2  \n",
       "148073                 2  \n",
       "\n",
       "[600 rows x 6 columns]"
      ]
     },
     "execution_count": 11,
     "metadata": {},
     "output_type": "execute_result"
    }
   ],
   "source": [
    "df_sample"
   ]
  },
  {
   "cell_type": "code",
   "execution_count": 12,
   "id": "43ef2254",
   "metadata": {
    "ExecuteTime": {
     "end_time": "2023-01-10T11:35:20.903842Z",
     "start_time": "2023-01-10T11:35:20.889488Z"
    }
   },
   "outputs": [],
   "source": [
    "df_ellipticals = df_sample[df_sample.category_encoded == 0]\n",
    "df_spirals = df_sample[df_sample.category_encoded == 2]\n",
    "df_irreg = df_sample[df_sample.category_encoded==1]"
   ]
  },
  {
   "cell_type": "code",
   "execution_count": 13,
   "id": "d0e3a2b3",
   "metadata": {
    "ExecuteTime": {
     "end_time": "2023-01-10T11:35:20.919490Z",
     "start_time": "2023-01-10T11:35:20.905408Z"
    }
   },
   "outputs": [],
   "source": [
    "#Undersampling and shuffling data to irregular level\n",
    "\n",
    "df_Eusampled = df_ellipticals.sample(n=len(df_irreg), random_state=101)\n",
    "df_Susampled = df_spirals.sample(n=len(df_irreg), random_state=101)\n",
    "df_balanced = pd.concat([df_Eusampled,df_Susampled, df_irreg],axis=0)"
   ]
  },
  {
   "cell_type": "code",
   "execution_count": 14,
   "id": "2a39656c",
   "metadata": {
    "ExecuteTime": {
     "end_time": "2023-01-10T11:35:20.950891Z",
     "start_time": "2023-01-10T11:35:20.920646Z"
    }
   },
   "outputs": [
    {
     "data": {
      "text/html": [
       "<div>\n",
       "<style scoped>\n",
       "    .dataframe tbody tr th:only-of-type {\n",
       "        vertical-align: middle;\n",
       "    }\n",
       "\n",
       "    .dataframe tbody tr th {\n",
       "        vertical-align: top;\n",
       "    }\n",
       "\n",
       "    .dataframe thead th {\n",
       "        text-align: right;\n",
       "    }\n",
       "</style>\n",
       "<table border=\"1\" class=\"dataframe\">\n",
       "  <thead>\n",
       "    <tr style=\"text-align: right;\">\n",
       "      <th></th>\n",
       "      <th>objid</th>\n",
       "      <th>sample</th>\n",
       "      <th>asset_id</th>\n",
       "      <th>gz2_class</th>\n",
       "      <th>category</th>\n",
       "      <th>category_encoded</th>\n",
       "    </tr>\n",
       "  </thead>\n",
       "  <tbody>\n",
       "    <tr>\n",
       "      <th>0</th>\n",
       "      <td>5.880000e+17</td>\n",
       "      <td>extra</td>\n",
       "      <td>249243</td>\n",
       "      <td>Ec</td>\n",
       "      <td>Elliptical</td>\n",
       "      <td>0</td>\n",
       "    </tr>\n",
       "    <tr>\n",
       "      <th>1</th>\n",
       "      <td>5.880000e+17</td>\n",
       "      <td>original</td>\n",
       "      <td>187087</td>\n",
       "      <td>SBc?t</td>\n",
       "      <td>Spiral</td>\n",
       "      <td>2</td>\n",
       "    </tr>\n",
       "    <tr>\n",
       "      <th>2</th>\n",
       "      <td>5.880000e+17</td>\n",
       "      <td>stripe82</td>\n",
       "      <td>288400</td>\n",
       "      <td>Ei</td>\n",
       "      <td>Elliptical</td>\n",
       "      <td>0</td>\n",
       "    </tr>\n",
       "    <tr>\n",
       "      <th>3</th>\n",
       "      <td>5.880000e+17</td>\n",
       "      <td>extra</td>\n",
       "      <td>265845</td>\n",
       "      <td>Er</td>\n",
       "      <td>Elliptical</td>\n",
       "      <td>0</td>\n",
       "    </tr>\n",
       "    <tr>\n",
       "      <th>4</th>\n",
       "      <td>5.880000e+17</td>\n",
       "      <td>original</td>\n",
       "      <td>11262</td>\n",
       "      <td>Er</td>\n",
       "      <td>Elliptical</td>\n",
       "      <td>0</td>\n",
       "    </tr>\n",
       "    <tr>\n",
       "      <th>...</th>\n",
       "      <td>...</td>\n",
       "      <td>...</td>\n",
       "      <td>...</td>\n",
       "      <td>...</td>\n",
       "      <td>...</td>\n",
       "      <td>...</td>\n",
       "    </tr>\n",
       "    <tr>\n",
       "      <th>316</th>\n",
       "      <td>5.880000e+17</td>\n",
       "      <td>original</td>\n",
       "      <td>8691</td>\n",
       "      <td>SBb3t</td>\n",
       "      <td>Spiral</td>\n",
       "      <td>2</td>\n",
       "    </tr>\n",
       "    <tr>\n",
       "      <th>317</th>\n",
       "      <td>5.880000e+17</td>\n",
       "      <td>original</td>\n",
       "      <td>53898</td>\n",
       "      <td>SBc2m</td>\n",
       "      <td>Irregular</td>\n",
       "      <td>1</td>\n",
       "    </tr>\n",
       "    <tr>\n",
       "      <th>318</th>\n",
       "      <td>5.880000e+17</td>\n",
       "      <td>extra</td>\n",
       "      <td>266444</td>\n",
       "      <td>SBb(r)</td>\n",
       "      <td>Spiral</td>\n",
       "      <td>2</td>\n",
       "    </tr>\n",
       "    <tr>\n",
       "      <th>319</th>\n",
       "      <td>5.880000e+17</td>\n",
       "      <td>original</td>\n",
       "      <td>15966</td>\n",
       "      <td>SBb</td>\n",
       "      <td>Spiral</td>\n",
       "      <td>2</td>\n",
       "    </tr>\n",
       "    <tr>\n",
       "      <th>320</th>\n",
       "      <td>5.880000e+17</td>\n",
       "      <td>original</td>\n",
       "      <td>173396</td>\n",
       "      <td>Sb</td>\n",
       "      <td>Spiral</td>\n",
       "      <td>2</td>\n",
       "    </tr>\n",
       "  </tbody>\n",
       "</table>\n",
       "<p>321 rows × 6 columns</p>\n",
       "</div>"
      ],
      "text/plain": [
       "            objid    sample  asset_id gz2_class    category  category_encoded\n",
       "0    5.880000e+17     extra    249243        Ec  Elliptical                 0\n",
       "1    5.880000e+17  original    187087     SBc?t      Spiral                 2\n",
       "2    5.880000e+17  stripe82    288400        Ei  Elliptical                 0\n",
       "3    5.880000e+17     extra    265845        Er  Elliptical                 0\n",
       "4    5.880000e+17  original     11262        Er  Elliptical                 0\n",
       "..            ...       ...       ...       ...         ...               ...\n",
       "316  5.880000e+17  original      8691     SBb3t      Spiral                 2\n",
       "317  5.880000e+17  original     53898     SBc2m   Irregular                 1\n",
       "318  5.880000e+17     extra    266444    SBb(r)      Spiral                 2\n",
       "319  5.880000e+17  original     15966       SBb      Spiral                 2\n",
       "320  5.880000e+17  original    173396        Sb      Spiral                 2\n",
       "\n",
       "[321 rows x 6 columns]"
      ]
     },
     "execution_count": 14,
     "metadata": {},
     "output_type": "execute_result"
    }
   ],
   "source": [
    "#Shuffling the data and resetting the index\n",
    "\n",
    "df_processed = df_balanced.sample(frac=1).reset_index(drop=True)\n",
    "\n",
    "df_processed"
   ]
  },
  {
   "cell_type": "code",
   "execution_count": 15,
   "id": "4db4329c",
   "metadata": {
    "ExecuteTime": {
     "end_time": "2023-01-10T11:35:21.092047Z",
     "start_time": "2023-01-10T11:35:20.953475Z"
    },
    "scrolled": true
   },
   "outputs": [
    {
     "name": "stderr",
     "output_type": "stream",
     "text": [
      "C:\\Users\\HelenLuhaar\\anaconda3\\lib\\site-packages\\seaborn\\_decorators.py:36: FutureWarning: Pass the following variable as a keyword arg: x. From version 0.12, the only valid positional argument will be `data`, and passing other arguments without an explicit keyword will result in an error or misinterpretation.\n",
      "  warnings.warn(\n"
     ]
    },
    {
     "data": {
      "image/png": "[encoded data removed]",
      "text/plain": [
       "<Figure size 432x288 with 1 Axes>"
      ]
     },
     "metadata": {
      "needs_background": "light"
     },
     "output_type": "display_data"
    }
   ],
   "source": [
    "sns.countplot(df_processed['category']);"
   ]
  },
  {
   "cell_type": "markdown",
   "id": "1fff8a4f",
   "metadata": {},
   "source": [
    "Now there are 107 records of each of 3 categories. The data has been balanced, encoded and shuffled. Next, can grab their image counterparts from the image folder to start the CNN model."
   ]
  },
  {
   "cell_type": "code",
   "execution_count": 16,
   "id": "b373a004",
   "metadata": {
    "ExecuteTime": {
     "end_time": "2023-01-10T11:35:21.107561Z",
     "start_time": "2023-01-10T11:35:21.093049Z"
    }
   },
   "outputs": [
    {
     "name": "stdout",
     "output_type": "stream",
     "text": [
      "No. of training examples: 257\n",
      "No. of testing examples: 64\n"
     ]
    }
   ],
   "source": [
    "#Splitting the data into training and testing sets in the dataframe\n",
    "\n",
    "training_data = df_processed.sample(frac=0.8, random_state=25)\n",
    "\n",
    "testing_data = df_processed.drop(training_data.index)\n",
    "\n",
    "print(f\"No. of training examples: {training_data.shape[0]}\")\n",
    "print(f\"No. of testing examples: {testing_data.shape[0]}\")"
   ]
  },
  {
   "cell_type": "code",
   "execution_count": 17,
   "id": "3a8f7864",
   "metadata": {
    "ExecuteTime": {
     "end_time": "2023-01-10T11:35:21.123496Z",
     "start_time": "2023-01-10T11:35:21.109472Z"
    }
   },
   "outputs": [],
   "source": [
    "#Resetting the index, otherwise the matching with the image won't work\n",
    "\n",
    "training_data = training_data.reset_index(drop=True)\n",
    "testing_data = testing_data.reset_index(drop=True)"
   ]
  },
  {
   "cell_type": "code",
   "execution_count": 18,
   "id": "a199f6e1",
   "metadata": {
    "ExecuteTime": {
     "end_time": "2023-01-10T11:35:21.138713Z",
     "start_time": "2023-01-10T11:35:21.125011Z"
    }
   },
   "outputs": [
    {
     "data": {
      "text/html": [
       "<div>\n",
       "<style scoped>\n",
       "    .dataframe tbody tr th:only-of-type {\n",
       "        vertical-align: middle;\n",
       "    }\n",
       "\n",
       "    .dataframe tbody tr th {\n",
       "        vertical-align: top;\n",
       "    }\n",
       "\n",
       "    .dataframe thead th {\n",
       "        text-align: right;\n",
       "    }\n",
       "</style>\n",
       "<table border=\"1\" class=\"dataframe\">\n",
       "  <thead>\n",
       "    <tr style=\"text-align: right;\">\n",
       "      <th></th>\n",
       "      <th>objid</th>\n",
       "      <th>sample</th>\n",
       "      <th>asset_id</th>\n",
       "      <th>gz2_class</th>\n",
       "      <th>category</th>\n",
       "      <th>category_encoded</th>\n",
       "    </tr>\n",
       "  </thead>\n",
       "  <tbody>\n",
       "    <tr>\n",
       "      <th>0</th>\n",
       "      <td>5.880000e+17</td>\n",
       "      <td>original</td>\n",
       "      <td>112230</td>\n",
       "      <td>Sb(r)</td>\n",
       "      <td>Spiral</td>\n",
       "      <td>2</td>\n",
       "    </tr>\n",
       "    <tr>\n",
       "      <th>1</th>\n",
       "      <td>5.880000e+17</td>\n",
       "      <td>original</td>\n",
       "      <td>217937</td>\n",
       "      <td>Ser</td>\n",
       "      <td>Elliptical</td>\n",
       "      <td>0</td>\n",
       "    </tr>\n",
       "    <tr>\n",
       "      <th>2</th>\n",
       "      <td>5.880000e+17</td>\n",
       "      <td>stripe82</td>\n",
       "      <td>290458</td>\n",
       "      <td>Ei</td>\n",
       "      <td>Elliptical</td>\n",
       "      <td>0</td>\n",
       "    </tr>\n",
       "    <tr>\n",
       "      <th>3</th>\n",
       "      <td>5.880000e+17</td>\n",
       "      <td>original</td>\n",
       "      <td>107940</td>\n",
       "      <td>Sb?t(r)</td>\n",
       "      <td>Spiral</td>\n",
       "      <td>2</td>\n",
       "    </tr>\n",
       "    <tr>\n",
       "      <th>4</th>\n",
       "      <td>5.880000e+17</td>\n",
       "      <td>original</td>\n",
       "      <td>99640</td>\n",
       "      <td>Sc(m)</td>\n",
       "      <td>Irregular</td>\n",
       "      <td>1</td>\n",
       "    </tr>\n",
       "  </tbody>\n",
       "</table>\n",
       "</div>"
      ],
      "text/plain": [
       "          objid    sample  asset_id gz2_class    category  category_encoded\n",
       "0  5.880000e+17  original    112230     Sb(r)      Spiral                 2\n",
       "1  5.880000e+17  original    217937       Ser  Elliptical                 0\n",
       "2  5.880000e+17  stripe82    290458        Ei  Elliptical                 0\n",
       "3  5.880000e+17  original    107940   Sb?t(r)      Spiral                 2\n",
       "4  5.880000e+17  original     99640     Sc(m)   Irregular                 1"
      ]
     },
     "execution_count": 18,
     "metadata": {},
     "output_type": "execute_result"
    }
   ],
   "source": [
    "training_data.head()"
   ]
  },
  {
   "cell_type": "code",
   "execution_count": 19,
   "id": "287eaf11",
   "metadata": {
    "ExecuteTime": {
     "end_time": "2023-01-10T11:35:21.780788Z",
     "start_time": "2023-01-10T11:35:21.139726Z"
    }
   },
   "outputs": [
    {
     "data": {
      "text/plain": [
       "<matplotlib.image.AxesImage at 0x238aaa162e0>"
      ]
     },
     "execution_count": 19,
     "metadata": {},
     "output_type": "execute_result"
    },
    {
     "data": {
      "image/png": "[encoded data removed]",
      "text/plain": [
       "<Figure size 432x288 with 1 Axes>"
      ]
     },
     "metadata": {
      "needs_background": "light"
     },
     "output_type": "display_data"
    }
   ],
   "source": [
    "#Collecting all the images according to the dataframe training data\n",
    "\n",
    "training_images = []\n",
    "\n",
    "for i in range(0, len(training_data)):\n",
    "    photor = cv.imread(pic_all + str(training_data['asset_id'][i]) + '.jpg')\n",
    "    training_images.append(photor)\n",
    "\n",
    "plt.imshow(training_images[1]) #Displaying one image in the list"
   ]
  },
  {
   "cell_type": "code",
   "execution_count": 20,
   "id": "a20fae74",
   "metadata": {
    "ExecuteTime": {
     "end_time": "2023-01-10T11:35:21.796446Z",
     "start_time": "2023-01-10T11:35:21.781808Z"
    }
   },
   "outputs": [
    {
     "data": {
      "text/plain": [
       "257"
      ]
     },
     "execution_count": 20,
     "metadata": {},
     "output_type": "execute_result"
    }
   ],
   "source": [
    "len(training_images)"
   ]
  },
  {
   "cell_type": "code",
   "execution_count": 21,
   "id": "78cc99e1",
   "metadata": {
    "ExecuteTime": {
     "end_time": "2023-01-10T11:35:21.811806Z",
     "start_time": "2023-01-10T11:35:21.798435Z"
    }
   },
   "outputs": [
    {
     "data": {
      "text/html": [
       "<div>\n",
       "<style scoped>\n",
       "    .dataframe tbody tr th:only-of-type {\n",
       "        vertical-align: middle;\n",
       "    }\n",
       "\n",
       "    .dataframe tbody tr th {\n",
       "        vertical-align: top;\n",
       "    }\n",
       "\n",
       "    .dataframe thead th {\n",
       "        text-align: right;\n",
       "    }\n",
       "</style>\n",
       "<table border=\"1\" class=\"dataframe\">\n",
       "  <thead>\n",
       "    <tr style=\"text-align: right;\">\n",
       "      <th></th>\n",
       "      <th>objid</th>\n",
       "      <th>sample</th>\n",
       "      <th>asset_id</th>\n",
       "      <th>gz2_class</th>\n",
       "      <th>category</th>\n",
       "      <th>category_encoded</th>\n",
       "    </tr>\n",
       "  </thead>\n",
       "  <tbody>\n",
       "    <tr>\n",
       "      <th>0</th>\n",
       "      <td>5.880000e+17</td>\n",
       "      <td>stripe82</td>\n",
       "      <td>288400</td>\n",
       "      <td>Ei</td>\n",
       "      <td>Elliptical</td>\n",
       "      <td>0</td>\n",
       "    </tr>\n",
       "    <tr>\n",
       "      <th>1</th>\n",
       "      <td>5.880000e+17</td>\n",
       "      <td>original</td>\n",
       "      <td>53872</td>\n",
       "      <td>Sc?t</td>\n",
       "      <td>Spiral</td>\n",
       "      <td>2</td>\n",
       "    </tr>\n",
       "    <tr>\n",
       "      <th>2</th>\n",
       "      <td>5.880000e+17</td>\n",
       "      <td>extra</td>\n",
       "      <td>264965</td>\n",
       "      <td>SBd(i)</td>\n",
       "      <td>Spiral</td>\n",
       "      <td>2</td>\n",
       "    </tr>\n",
       "    <tr>\n",
       "      <th>3</th>\n",
       "      <td>5.880000e+17</td>\n",
       "      <td>original</td>\n",
       "      <td>32683</td>\n",
       "      <td>SBb2m</td>\n",
       "      <td>Irregular</td>\n",
       "      <td>1</td>\n",
       "    </tr>\n",
       "    <tr>\n",
       "      <th>4</th>\n",
       "      <td>5.880000e+17</td>\n",
       "      <td>original</td>\n",
       "      <td>187570</td>\n",
       "      <td>Sc?t</td>\n",
       "      <td>Spiral</td>\n",
       "      <td>2</td>\n",
       "    </tr>\n",
       "  </tbody>\n",
       "</table>\n",
       "</div>"
      ],
      "text/plain": [
       "          objid    sample  asset_id gz2_class    category  category_encoded\n",
       "0  5.880000e+17  stripe82    288400        Ei  Elliptical                 0\n",
       "1  5.880000e+17  original     53872      Sc?t      Spiral                 2\n",
       "2  5.880000e+17     extra    264965    SBd(i)      Spiral                 2\n",
       "3  5.880000e+17  original     32683     SBb2m   Irregular                 1\n",
       "4  5.880000e+17  original    187570      Sc?t      Spiral                 2"
      ]
     },
     "execution_count": 21,
     "metadata": {},
     "output_type": "execute_result"
    }
   ],
   "source": [
    "testing_data.head()"
   ]
  },
  {
   "cell_type": "code",
   "execution_count": 22,
   "id": "915e0ceb",
   "metadata": {
    "ExecuteTime": {
     "end_time": "2023-01-10T11:35:22.187841Z",
     "start_time": "2023-01-10T11:35:21.814803Z"
    }
   },
   "outputs": [
    {
     "data": {
      "text/plain": [
       "<matplotlib.image.AxesImage at 0x238aabf58e0>"
      ]
     },
     "execution_count": 22,
     "metadata": {},
     "output_type": "execute_result"
    },
    {
     "data": {
      "image/png": "[encoded data removed]",
      "text/plain": [
       "<Figure size 432x288 with 1 Axes>"
      ]
     },
     "metadata": {
      "needs_background": "light"
     },
     "output_type": "display_data"
    }
   ],
   "source": [
    "#Collecting all the images corresponding to the testing data\n",
    "\n",
    "testing_images = []\n",
    "\n",
    "for i in range(0, len(testing_data)):\n",
    "    photor = cv.imread(pic_all + str(testing_data['asset_id'][i]) + '.jpg')\n",
    "    testing_images.append(photor)\n",
    "\n",
    "plt.imshow(testing_images[1])"
   ]
  },
  {
   "cell_type": "code",
   "execution_count": 23,
   "id": "c2f15341",
   "metadata": {
    "ExecuteTime": {
     "end_time": "2023-01-10T11:35:22.203637Z",
     "start_time": "2023-01-10T11:35:22.189842Z"
    }
   },
   "outputs": [
    {
     "data": {
      "text/plain": [
       "64"
      ]
     },
     "execution_count": 23,
     "metadata": {},
     "output_type": "execute_result"
    }
   ],
   "source": [
    "len(testing_images)"
   ]
  },
  {
   "cell_type": "code",
   "execution_count": 24,
   "id": "1fc902e7",
   "metadata": {
    "ExecuteTime": {
     "end_time": "2023-01-10T11:35:22.219002Z",
     "start_time": "2023-01-10T11:35:22.204627Z"
    }
   },
   "outputs": [],
   "source": [
    "from PIL import Image\n",
    "with Image.open(pic_all+\"247457.jpg\") as img:\n",
    "    width, height = img.size"
   ]
  },
  {
   "cell_type": "code",
   "execution_count": 25,
   "id": "190132a9",
   "metadata": {
    "ExecuteTime": {
     "end_time": "2023-01-10T11:35:22.235051Z",
     "start_time": "2023-01-10T11:35:22.220002Z"
    }
   },
   "outputs": [
    {
     "data": {
      "text/plain": [
       "(424, 424)"
      ]
     },
     "execution_count": 25,
     "metadata": {},
     "output_type": "execute_result"
    }
   ],
   "source": [
    "width, height"
   ]
  },
  {
   "cell_type": "code",
   "execution_count": 26,
   "id": "f21ea9d2",
   "metadata": {
    "ExecuteTime": {
     "end_time": "2023-01-10T11:35:22.251034Z",
     "start_time": "2023-01-10T11:35:22.237006Z"
    }
   },
   "outputs": [],
   "source": [
    "#Adding the jpg to the end of the id\n",
    "\n",
    "training_data['asset_id'] = training_data['asset_id'].astype(str)\n",
    "testing_data['asset_id'] = testing_data['asset_id'].astype(str)\n",
    "\n",
    "def append_ext(fn):\n",
    "    return fn+\".jpg\"\n",
    "\n",
    "training_data[\"asset_id\"]=training_data[\"asset_id\"].apply(append_ext)\n",
    "testing_data[\"asset_id\"]=testing_data[\"asset_id\"].apply(append_ext)"
   ]
  },
  {
   "cell_type": "code",
   "execution_count": 67,
   "id": "b42f5dc8",
   "metadata": {
    "ExecuteTime": {
     "end_time": "2023-01-10T12:55:50.309061Z",
     "start_time": "2023-01-10T12:55:50.277350Z"
    }
   },
   "outputs": [
    {
     "name": "stdout",
     "output_type": "stream",
     "text": [
      "Found 221 validated image filenames belonging to 3 classes.\n",
      "Found 58 validated image filenames belonging to 3 classes.\n"
     ]
    },
    {
     "name": "stderr",
     "output_type": "stream",
     "text": [
      "C:\\Users\\HelenLuhaar\\anaconda3\\lib\\site-packages\\keras_preprocessing\\image\\dataframe_iterator.py:279: UserWarning: Found 36 invalid image filename(s) in x_col=\"asset_id\". These filename(s) will be ignored.\n",
      "  warnings.warn(\n",
      "C:\\Users\\HelenLuhaar\\anaconda3\\lib\\site-packages\\keras_preprocessing\\image\\dataframe_iterator.py:279: UserWarning: Found 6 invalid image filename(s) in x_col=\"asset_id\". These filename(s) will be ignored.\n",
      "  warnings.warn(\n"
     ]
    }
   ],
   "source": [
    "#Using image data generator module to match the labels in the dataframe with the images in another folder\n",
    "\n",
    "import keras_preprocessing\n",
    "\n",
    "from keras_preprocessing.image import ImageDataGenerator\n",
    "\n",
    "datagen=ImageDataGenerator()\n",
    "\n",
    "train_generator=datagen.flow_from_dataframe(\n",
    "dataframe=training_data,\n",
    "directory= pic_all,\n",
    "x_col=\"asset_id\",\n",
    "y_col=\"category\",\n",
    "subset=\"training\",\n",
    "batch_size=60,\n",
    "seed=42,\n",
    "shuffle=True,\n",
    "validate_filenames=True,\n",
    "class_mode=\"categorical\",\n",
    "target_size=(424,424))\n",
    "\n",
    "test_datagen=ImageDataGenerator()\n",
    "test_generator=test_datagen.flow_from_dataframe(\n",
    "dataframe=testing_data,\n",
    "directory=pic_all,\n",
    "x_col=\"asset_id\",\n",
    "y_col=\"category\",\n",
    "batch_size=60,\n",
    "seed=42,\n",
    "shuffle=False,\n",
    "validate_filenames=True,\n",
    "class_mode=\"categorical\",\n",
    "target_size=(424,424))"
   ]
  },
  {
   "cell_type": "code",
   "execution_count": 28,
   "id": "0d923fce",
   "metadata": {
    "ExecuteTime": {
     "end_time": "2023-01-10T11:35:22.408293Z",
     "start_time": "2023-01-10T11:35:22.397086Z"
    }
   },
   "outputs": [],
   "source": [
    "from tensorflow.keras import optimizers, regularizers\n",
    "from tensorflow.keras.optimizers import RMSprop"
   ]
  },
  {
   "cell_type": "code",
   "execution_count": 29,
   "id": "183aa89d",
   "metadata": {
    "ExecuteTime": {
     "end_time": "2023-01-10T11:35:24.729806Z",
     "start_time": "2023-01-10T11:35:22.409470Z"
    }
   },
   "outputs": [],
   "source": [
    "#Training the model\n",
    "\n",
    "model = Sequential()\n",
    "model.add(Convolution2D(32, (3, 3), padding='same',\n",
    "                 input_shape=(424,424,3)))\n",
    "model.add(Activation('relu'))\n",
    "model.add(Convolution2D(32, (3, 3)))\n",
    "model.add(Activation('relu'))\n",
    "model.add(MaxPooling2D(pool_size=(2, 2)))\n",
    "model.add(Dropout(0.25))\n",
    "model.add(Convolution2D(64, (3, 3), padding='same'))\n",
    "model.add(Activation('relu'))\n",
    "model.add(Convolution2D(64, (3, 3)))\n",
    "model.add(Activation('relu'))\n",
    "model.add(MaxPooling2D(pool_size=(2, 2)))\n",
    "model.add(Dropout(0.25))\n",
    "model.add(Flatten())\n",
    "model.add(Dense(512))\n",
    "model.add(Activation('relu'))\n",
    "model.add(Dropout(0.5))\n",
    "model.add(Dense(3, activation='softmax'))\n",
    "model.compile(optimizer='RMSprop',loss=\"categorical_crossentropy\",metrics=[\"accuracy\"])"
   ]
  },
  {
   "cell_type": "code",
   "execution_count": 81,
   "id": "65716560",
   "metadata": {
    "ExecuteTime": {
     "end_time": "2023-01-10T16:16:07.721828Z",
     "start_time": "2023-01-10T16:16:07.708400Z"
    }
   },
   "outputs": [
    {
     "data": {
      "text/plain": [
       "17"
      ]
     },
     "execution_count": 81,
     "metadata": {},
     "output_type": "execute_result"
    }
   ],
   "source": [
    "len(model.layers) #there are 17 layers"
   ]
  },
  {
   "cell_type": "code",
   "execution_count": 30,
   "id": "001165d3",
   "metadata": {
    "ExecuteTime": {
     "end_time": "2023-01-10T11:48:11.888040Z",
     "start_time": "2023-01-10T11:35:24.731819Z"
    }
   },
   "outputs": [
    {
     "name": "stderr",
     "output_type": "stream",
     "text": [
      "C:\\Users\\HelenLuhaar\\AppData\\Local\\Temp\\ipykernel_7032\\1685332554.py:6: UserWarning: `Model.fit_generator` is deprecated and will be removed in a future version. Please use `Model.fit`, which supports generators.\n",
      "  history_cnn = model.fit_generator(generator=train_generator, steps_per_epoch=STEP_SIZE_TRAIN, epochs=10)\n"
     ]
    },
    {
     "name": "stdout",
     "output_type": "stream",
     "text": [
      "Epoch 1/10\n",
      "6/6 [==============================] - 80s 13s/step - loss: 1067.3169 - accuracy: 0.3810\n",
      "Epoch 2/10\n",
      "6/6 [==============================] - 79s 13s/step - loss: 2.9131 - accuracy: 0.3651\n",
      "Epoch 3/10\n",
      "6/6 [==============================] - 77s 13s/step - loss: 1.1641 - accuracy: 0.3545\n",
      "Epoch 4/10\n",
      "6/6 [==============================] - 77s 13s/step - loss: 1.0999 - accuracy: 0.3915\n",
      "Epoch 5/10\n",
      "6/6 [==============================] - 71s 11s/step - loss: 1.0935 - accuracy: 0.3968\n",
      "Epoch 6/10\n",
      "6/6 [==============================] - 75s 12s/step - loss: 0.9736 - accuracy: 0.5608\n",
      "Epoch 7/10\n",
      "6/6 [==============================] - 76s 13s/step - loss: 0.9221 - accuracy: 0.6825\n",
      "Epoch 8/10\n",
      "6/6 [==============================] - 77s 13s/step - loss: 1.0149 - accuracy: 0.6878\n",
      "Epoch 9/10\n",
      "6/6 [==============================] - 77s 13s/step - loss: 0.7069 - accuracy: 0.7513\n",
      "Epoch 10/10\n",
      "6/6 [==============================] - 77s 13s/step - loss: 0.7476 - accuracy: 0.7672\n"
     ]
    }
   ],
   "source": [
    "#Fitting the model\n",
    "\n",
    "STEP_SIZE_TRAIN=train_generator.n//train_generator.batch_size\n",
    "STEP_SIZE_TEST=test_generator.n//test_generator.batch_size\n",
    "\n",
    "history_cnn = model.fit_generator(generator=train_generator, steps_per_epoch=STEP_SIZE_TRAIN, epochs=10)\n",
    "#model.fit_generator(generator=train_generator,\n",
    "                    #steps_per_epoch=STEP_SIZE_TRAIN,\n",
    "                    #epochs=10)\n"
   ]
  },
  {
   "cell_type": "code",
   "execution_count": 68,
   "id": "4537c026",
   "metadata": {
    "ExecuteTime": {
     "end_time": "2023-01-10T12:56:21.005913Z",
     "start_time": "2023-01-10T12:56:17.241689Z"
    }
   },
   "outputs": [
    {
     "name": "stderr",
     "output_type": "stream",
     "text": [
      "C:\\Users\\HelenLuhaar\\AppData\\Local\\Temp\\ipykernel_7032\\2076935646.py:2: UserWarning: `Model.predict_generator` is deprecated and will be removed in a future version. Please use `Model.predict`, which supports generators.\n",
      "  pred=model.predict_generator(test_generator,\n"
     ]
    },
    {
     "name": "stdout",
     "output_type": "stream",
     "text": [
      "1/1 [==============================] - 3s 3s/step\n"
     ]
    }
   ],
   "source": [
    "test_generator.reset()\n",
    "pred=model.predict_generator(test_generator,\n",
    "steps=STEP_SIZE_TEST,\n",
    "verbose=1)"
   ]
  },
  {
   "cell_type": "code",
   "execution_count": 44,
   "id": "3b6ca739",
   "metadata": {
    "ExecuteTime": {
     "end_time": "2023-01-10T12:35:10.831214Z",
     "start_time": "2023-01-10T12:34:59.522317Z"
    }
   },
   "outputs": [
    {
     "name": "stderr",
     "output_type": "stream",
     "text": [
      "C:\\Users\\HelenLuhaar\\AppData\\Local\\Temp\\ipykernel_7032\\1099212622.py:1: UserWarning: `Model.evaluate_generator` is deprecated and will be removed in a future version. Please use `Model.evaluate`, which supports generators.\n",
      "  score = model.evaluate_generator(train_generator)\n"
     ]
    },
    {
     "name": "stdout",
     "output_type": "stream",
     "text": [
      "loss: 0.46396052837371826\n",
      "accuracy: 0.9819004535675049\n"
     ]
    }
   ],
   "source": [
    "score = model.evaluate_generator(train_generator)\n",
    "print('loss:', score[0])\n",
    "print('accuracy:', score[1])"
   ]
  },
  {
   "cell_type": "code",
   "execution_count": 69,
   "id": "87534821",
   "metadata": {
    "ExecuteTime": {
     "end_time": "2023-01-10T12:56:30.924929Z",
     "start_time": "2023-01-10T12:56:30.909996Z"
    },
    "collapsed": true
   },
   "outputs": [
    {
     "data": {
      "text/plain": [
       "array([[0.3016801 , 0.38896185, 0.30935803],\n",
       "       [0.31905296, 0.21242453, 0.46852246],\n",
       "       [0.3278758 , 0.22003308, 0.45209113],\n",
       "       [0.44515324, 0.3824899 , 0.17235692],\n",
       "       [0.19635357, 0.31771904, 0.48592737],\n",
       "       [0.2263709 , 0.28237596, 0.4912532 ],\n",
       "       [0.4187107 , 0.20154531, 0.379744  ],\n",
       "       [0.26529288, 0.26195154, 0.47275552],\n",
       "       [0.3115947 , 0.25297338, 0.43543196],\n",
       "       [0.32619733, 0.30332154, 0.37048113],\n",
       "       [0.24826065, 0.21496639, 0.53677297],\n",
       "       [0.33044964, 0.30306193, 0.36648843],\n",
       "       [0.32777268, 0.28386712, 0.38836014],\n",
       "       [0.38156956, 0.29516184, 0.32326856],\n",
       "       [0.0591061 , 0.05237073, 0.8885232 ],\n",
       "       [0.30034262, 0.3239677 , 0.3756896 ],\n",
       "       [0.29872194, 0.25675285, 0.44452527],\n",
       "       [0.45433462, 0.291863  , 0.2538024 ],\n",
       "       [0.27922764, 0.27458066, 0.44619167],\n",
       "       [0.16556303, 0.42981747, 0.40461951],\n",
       "       [0.32266662, 0.3061    , 0.37123343],\n",
       "       [0.2837019 , 0.3235241 , 0.39277405],\n",
       "       [0.32529607, 0.32719663, 0.3475073 ],\n",
       "       [0.39728856, 0.21103935, 0.39167204],\n",
       "       [0.20430076, 0.17276439, 0.6229348 ],\n",
       "       [0.34796387, 0.28877416, 0.36326197],\n",
       "       [0.26656666, 0.34955364, 0.38387972],\n",
       "       [0.23307803, 0.09517959, 0.6717424 ],\n",
       "       [0.10361822, 0.42137003, 0.47501183],\n",
       "       [0.6793071 , 0.16165394, 0.15903893],\n",
       "       [0.3161938 , 0.25574118, 0.42806503],\n",
       "       [0.3198465 , 0.29164845, 0.38850504],\n",
       "       [0.4485442 , 0.19748653, 0.35396928],\n",
       "       [0.3060456 , 0.31200165, 0.38195282],\n",
       "       [0.46798006, 0.2406538 , 0.29136622],\n",
       "       [0.5124005 , 0.25836936, 0.22923006],\n",
       "       [0.24184527, 0.54514986, 0.21300486],\n",
       "       [0.24225725, 0.2471694 , 0.5105734 ],\n",
       "       [0.32541603, 0.29979447, 0.37478948],\n",
       "       [0.28571683, 0.24897353, 0.46530965],\n",
       "       [0.4659132 , 0.14369485, 0.39039195],\n",
       "       [0.26463875, 0.18274182, 0.55261946],\n",
       "       [0.23745427, 0.30554125, 0.45700455],\n",
       "       [0.31941527, 0.25730866, 0.42327607],\n",
       "       [0.309566  , 0.32239032, 0.3680437 ],\n",
       "       [0.42128336, 0.3209803 , 0.25773636],\n",
       "       [0.28668967, 0.24681775, 0.4664926 ],\n",
       "       [0.36240703, 0.31156656, 0.32602638],\n",
       "       [0.16840243, 0.6049139 , 0.22668366],\n",
       "       [0.28736824, 0.3205539 , 0.39207783],\n",
       "       [0.381303  , 0.2667643 , 0.3519327 ],\n",
       "       [0.06898222, 0.67565656, 0.25536123],\n",
       "       [0.33449787, 0.32356584, 0.34193632],\n",
       "       [0.30609158, 0.26801845, 0.42588997],\n",
       "       [0.34824497, 0.3477214 , 0.30403364],\n",
       "       [0.3358158 , 0.28637645, 0.37780774],\n",
       "       [0.31675294, 0.29495215, 0.38829485],\n",
       "       [0.15475425, 0.19799434, 0.6472514 ]], dtype=float32)"
      ]
     },
     "execution_count": 69,
     "metadata": {},
     "output_type": "execute_result"
    }
   ],
   "source": [
    "pred"
   ]
  },
  {
   "cell_type": "code",
   "execution_count": 70,
   "id": "8c5c9bc5",
   "metadata": {
    "ExecuteTime": {
     "end_time": "2023-01-10T12:56:39.078130Z",
     "start_time": "2023-01-10T12:56:39.064004Z"
    }
   },
   "outputs": [],
   "source": [
    "predicted_class_indices=np.argmax(pred,axis=1)"
   ]
  },
  {
   "cell_type": "code",
   "execution_count": 71,
   "id": "926d0f3f",
   "metadata": {
    "ExecuteTime": {
     "end_time": "2023-01-10T12:56:40.364505Z",
     "start_time": "2023-01-10T12:56:40.350435Z"
    }
   },
   "outputs": [
    {
     "data": {
      "text/plain": [
       "array([1, 2, 2, 0, 2, 2, 0, 2, 2, 2, 2, 2, 2, 0, 2, 2, 2, 0, 2, 1, 2, 2,\n",
       "       2, 0, 2, 2, 2, 2, 2, 0, 2, 2, 0, 2, 0, 0, 1, 2, 2, 2, 0, 2, 2, 2,\n",
       "       2, 0, 2, 0, 1, 2, 0, 1, 2, 2, 0, 2, 2, 2], dtype=int64)"
      ]
     },
     "execution_count": 71,
     "metadata": {},
     "output_type": "execute_result"
    }
   ],
   "source": [
    "predicted_class_indices"
   ]
  },
  {
   "cell_type": "code",
   "execution_count": 72,
   "id": "fa6b6b4d",
   "metadata": {
    "ExecuteTime": {
     "end_time": "2023-01-10T12:56:43.888033Z",
     "start_time": "2023-01-10T12:56:43.881290Z"
    }
   },
   "outputs": [],
   "source": [
    "labels = (train_generator.class_indices)\n",
    "labels = dict((v,k) for k,v in labels.items())\n",
    "predictions = [labels[k] for k in predicted_class_indices]"
   ]
  },
  {
   "cell_type": "code",
   "execution_count": 75,
   "id": "f7d2fd85",
   "metadata": {
    "ExecuteTime": {
     "end_time": "2023-01-10T13:00:24.300212Z",
     "start_time": "2023-01-10T13:00:24.280065Z"
    }
   },
   "outputs": [],
   "source": [
    "true_values = [labels[k] for k in test_generator.classes]"
   ]
  },
  {
   "cell_type": "code",
   "execution_count": 73,
   "id": "c048d455",
   "metadata": {
    "ExecuteTime": {
     "end_time": "2023-01-10T12:56:48.077892Z",
     "start_time": "2023-01-10T12:56:48.061644Z"
    },
    "collapsed": true
   },
   "outputs": [
    {
     "data": {
      "text/plain": [
       "(['288400.jpg',\n",
       "  '53872.jpg',\n",
       "  '264965.jpg',\n",
       "  '187570.jpg',\n",
       "  '238161.jpg',\n",
       "  '44093.jpg',\n",
       "  '278064.jpg',\n",
       "  '265308.jpg',\n",
       "  '124166.jpg',\n",
       "  '185401.jpg',\n",
       "  '36909.jpg',\n",
       "  '136336.jpg',\n",
       "  '292356.jpg',\n",
       "  '153892.jpg',\n",
       "  '152641.jpg',\n",
       "  '228687.jpg',\n",
       "  '49949.jpg',\n",
       "  '112997.jpg',\n",
       "  '288475.jpg',\n",
       "  '217804.jpg',\n",
       "  '283879.jpg',\n",
       "  '90031.jpg',\n",
       "  '284796.jpg',\n",
       "  '123764.jpg',\n",
       "  '119289.jpg',\n",
       "  '170928.jpg',\n",
       "  '239474.jpg',\n",
       "  '185685.jpg',\n",
       "  '136739.jpg',\n",
       "  '227487.jpg',\n",
       "  '214347.jpg',\n",
       "  '239487.jpg',\n",
       "  '274251.jpg',\n",
       "  '284977.jpg',\n",
       "  '18032.jpg',\n",
       "  '15278.jpg',\n",
       "  '92021.jpg',\n",
       "  '272337.jpg',\n",
       "  '68251.jpg',\n",
       "  '64600.jpg',\n",
       "  '56504.jpg',\n",
       "  '208997.jpg',\n",
       "  '172056.jpg',\n",
       "  '36994.jpg',\n",
       "  '177760.jpg',\n",
       "  '69863.jpg',\n",
       "  '81657.jpg',\n",
       "  '19172.jpg',\n",
       "  '54330.jpg',\n",
       "  '121447.jpg',\n",
       "  '18552.jpg',\n",
       "  '200203.jpg',\n",
       "  '244029.jpg',\n",
       "  '272984.jpg',\n",
       "  '8596.jpg',\n",
       "  '215095.jpg',\n",
       "  '53898.jpg',\n",
       "  '266444.jpg'],\n",
       " ['Irregular',\n",
       "  'Spiral',\n",
       "  'Spiral',\n",
       "  'Elliptical',\n",
       "  'Spiral',\n",
       "  'Spiral',\n",
       "  'Elliptical',\n",
       "  'Spiral',\n",
       "  'Spiral',\n",
       "  'Spiral',\n",
       "  'Spiral',\n",
       "  'Spiral',\n",
       "  'Spiral',\n",
       "  'Elliptical',\n",
       "  'Spiral',\n",
       "  'Spiral',\n",
       "  'Spiral',\n",
       "  'Elliptical',\n",
       "  'Spiral',\n",
       "  'Irregular',\n",
       "  'Spiral',\n",
       "  'Spiral',\n",
       "  'Spiral',\n",
       "  'Elliptical',\n",
       "  'Spiral',\n",
       "  'Spiral',\n",
       "  'Spiral',\n",
       "  'Spiral',\n",
       "  'Spiral',\n",
       "  'Elliptical',\n",
       "  'Spiral',\n",
       "  'Spiral',\n",
       "  'Elliptical',\n",
       "  'Spiral',\n",
       "  'Elliptical',\n",
       "  'Elliptical',\n",
       "  'Irregular',\n",
       "  'Spiral',\n",
       "  'Spiral',\n",
       "  'Spiral',\n",
       "  'Elliptical',\n",
       "  'Spiral',\n",
       "  'Spiral',\n",
       "  'Spiral',\n",
       "  'Spiral',\n",
       "  'Elliptical',\n",
       "  'Spiral',\n",
       "  'Elliptical',\n",
       "  'Irregular',\n",
       "  'Spiral',\n",
       "  'Elliptical',\n",
       "  'Irregular',\n",
       "  'Spiral',\n",
       "  'Spiral',\n",
       "  'Elliptical',\n",
       "  'Spiral',\n",
       "  'Spiral',\n",
       "  'Spiral'],\n",
       " {0: 'Elliptical', 1: 'Irregular', 2: 'Spiral'})"
      ]
     },
     "execution_count": 73,
     "metadata": {},
     "output_type": "execute_result"
    }
   ],
   "source": [
    "test_generator.filenames,predictions,labels"
   ]
  },
  {
   "cell_type": "code",
   "execution_count": 76,
   "id": "a867d6ce",
   "metadata": {
    "ExecuteTime": {
     "end_time": "2023-01-10T13:00:39.577383Z",
     "start_time": "2023-01-10T13:00:39.566293Z"
    },
    "collapsed": true
   },
   "outputs": [
    {
     "data": {
      "text/plain": [
       "['Elliptical',\n",
       " 'Spiral',\n",
       " 'Spiral',\n",
       " 'Spiral',\n",
       " 'Spiral',\n",
       " 'Irregular',\n",
       " 'Spiral',\n",
       " 'Elliptical',\n",
       " 'Irregular',\n",
       " 'Irregular',\n",
       " 'Elliptical',\n",
       " 'Elliptical',\n",
       " 'Irregular',\n",
       " 'Spiral',\n",
       " 'Elliptical',\n",
       " 'Spiral',\n",
       " 'Elliptical',\n",
       " 'Irregular',\n",
       " 'Elliptical',\n",
       " 'Spiral',\n",
       " 'Elliptical',\n",
       " 'Elliptical',\n",
       " 'Irregular',\n",
       " 'Elliptical',\n",
       " 'Elliptical',\n",
       " 'Irregular',\n",
       " 'Elliptical',\n",
       " 'Elliptical',\n",
       " 'Spiral',\n",
       " 'Spiral',\n",
       " 'Irregular',\n",
       " 'Spiral',\n",
       " 'Irregular',\n",
       " 'Elliptical',\n",
       " 'Elliptical',\n",
       " 'Elliptical',\n",
       " 'Elliptical',\n",
       " 'Irregular',\n",
       " 'Spiral',\n",
       " 'Spiral',\n",
       " 'Irregular',\n",
       " 'Elliptical',\n",
       " 'Irregular',\n",
       " 'Spiral',\n",
       " 'Irregular',\n",
       " 'Elliptical',\n",
       " 'Irregular',\n",
       " 'Irregular',\n",
       " 'Elliptical',\n",
       " 'Irregular',\n",
       " 'Elliptical',\n",
       " 'Spiral',\n",
       " 'Spiral',\n",
       " 'Spiral',\n",
       " 'Elliptical',\n",
       " 'Irregular',\n",
       " 'Irregular',\n",
       " 'Spiral']"
      ]
     },
     "execution_count": 76,
     "metadata": {},
     "output_type": "execute_result"
    }
   ],
   "source": [
    "true_values"
   ]
  },
  {
   "cell_type": "code",
   "execution_count": 77,
   "id": "11505b83",
   "metadata": {
    "ExecuteTime": {
     "end_time": "2023-01-10T13:01:59.223377Z",
     "start_time": "2023-01-10T13:01:59.199963Z"
    }
   },
   "outputs": [
    {
     "name": "stdout",
     "output_type": "stream",
     "text": [
      "Confusion matrix:\n",
      "[[ 6  3 13]\n",
      " [ 4  0 14]\n",
      " [ 4  2 12]]\n",
      "\n",
      "Quadratic weighted Cohen's kappa = 0.0565\n",
      "\n",
      "Classification report:\n",
      "              precision    recall  f1-score   support\n",
      "\n",
      "  Elliptical       0.43      0.27      0.33        22\n",
      "   Irregular       0.00      0.00      0.00        18\n",
      "      Spiral       0.31      0.67      0.42        18\n",
      "\n",
      "    accuracy                           0.31        58\n",
      "   macro avg       0.25      0.31      0.25        58\n",
      "weighted avg       0.26      0.31      0.26        58\n",
      "\n",
      "\n"
     ]
    }
   ],
   "source": [
    "# Calculate and print the metrics results\n",
    "from sklearn.metrics import confusion_matrix, cohen_kappa_score, classification_report\n",
    "\n",
    "cm = confusion_matrix(true_values, predictions)\n",
    "print('Confusion matrix:')\n",
    "print(cm)\n",
    "print('')\n",
    "\n",
    "k = cohen_kappa_score(true_values, predictions, weights = 'quadratic')\n",
    "print(\"Quadratic weighted Cohen's kappa = {:.4f}\".format(k))\n",
    "print('')\n",
    "\n",
    "cr = classification_report(true_values, predictions)\n",
    "print('Classification report:')\n",
    "print(cr)\n",
    "print('')"
   ]
  },
  {
   "cell_type": "code",
   "execution_count": 78,
   "id": "fbe731b3",
   "metadata": {
    "ExecuteTime": {
     "end_time": "2023-01-10T13:03:22.453132Z",
     "start_time": "2023-01-10T13:03:22.424993Z"
    }
   },
   "outputs": [],
   "source": [
    "filenames=test_generator.filenames\n",
    "results=pd.DataFrame({\"Filename\":filenames,\n",
    "                      \"Predictions\":predictions,\n",
    "                      \"True_values\":true_values})\n",
    "results.to_csv(\"results.csv\",index=False)"
   ]
  },
  {
   "cell_type": "code",
   "execution_count": null,
   "id": "f3b9d464",
   "metadata": {},
   "outputs": [],
   "source": []
  }
 ],
 "metadata": {
  "kernelspec": {
   "display_name": "Python 3 (ipykernel)",
   "language": "python",
   "name": "python3"
  },
  "language_info": {
   "codemirror_mode": {
    "name": "ipython",
    "version": 3
   },
   "file_extension": ".py",
   "mimetype": "text/x-python",
   "name": "python",
   "nbconvert_exporter": "python",
   "pygments_lexer": "ipython3",
   "version": "3.9.7"
  },
  "varInspector": {
   "cols": {
    "lenName": 16,
    "lenType": 16,
    "lenVar": 40
   },
   "kernels_config": {
    "python": {
     "delete_cmd_postfix": "",
     "delete_cmd_prefix": "del ",
     "library": "var_list.py",
     "varRefreshCmd": "print(var_dic_list())"
    },
    "r": {
     "delete_cmd_postfix": ") ",
     "delete_cmd_prefix": "rm(",
     "library": "var_list.r",
     "varRefreshCmd": "cat(var_dic_list()) "
    }
   },
   "types_to_exclude": [
    "module",
    "function",
    "builtin_function_or_method",
    "instance",
    "_Feature"
   ],
   "window_display": false
  }
 },
 "nbformat": 4,
 "nbformat_minor": 5
}
